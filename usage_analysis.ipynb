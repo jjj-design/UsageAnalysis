{
 "cells": [
  {
   "cell_type": "code",
   "execution_count": 1,
   "metadata": {},
   "outputs": [],
   "source": [
    "import numpy as np\n",
    "import matplotlib.pyplot as plt\n",
    "import pandas as pd"
   ]
  },
  {
   "cell_type": "markdown",
   "metadata": {},
   "source": [
    "# 用途分解の計算"
   ]
  },
  {
   "cell_type": "markdown",
   "metadata": {},
   "source": [
    "## 1. 概要"
   ]
  },
  {
   "cell_type": "markdown",
   "metadata": {},
   "source": [
    "本ファイルは、用途分解の計算方法について記しています。  \n",
    "ここで用途分解とは、家庭におけるエネルギー種別ごとの消費量つまり、消費電力、ガス消費量、灯油消費量から、家庭における用途別エネルギー消費量を推計する方法を言います。  \n",
    "用途は、暖房・冷房・換気・給湯・照明・家電・調理に分類されます。\n",
    "消費電力、ガス消費量、および灯油消費量は、領収書などから月単位で把握できているものとします。  \n",
    "エネルギー種別の単位は以下のとおりです。  \n",
    "- 消費電力  kwh\n",
    "- ガス消費量  m<sup>3</sup>\n",
    "- 灯油消費量  L"
   ]
  },
  {
   "cell_type": "markdown",
   "metadata": {},
   "source": [
    "用途別エネルギーの推計は、エネルギー種別ごとに行います。  \n",
    "電力を消費する用途としては、全ての用途が考えられます。  \n",
    "ガスを消費する用途としては、暖房・給湯・調理が考えられます。  \n",
    "灯油を消費する用途としては、暖房・給湯が考えられます。"
   ]
  },
  {
   "cell_type": "markdown",
   "metadata": {},
   "source": [
    "用途が1つに限られている場合、例えば、灯油を暖房にしか使用していない場合などは、用途分解をするまでもなく用途が決定します。  \n",
    "用途が複数にわたる場合、例えば、灯油を暖房と給湯に使用している場合などは、暖房は冬期にしか使用しないことから、灯油消費量の月別の推移を見ておおよそ暖房と給湯に分解します。  \n",
    "電力の用途分解は非常に難しく、例えば電力を換気と照明に分類する場合、換気も照明も季節的な変動が見られないため、用途を分解するのは困難です。本方法では、一般的な家庭を想定した結果をデフォルト値として示しますので、家庭の事情（例えば日中照明を良く使っているなど）をヒアリングして、消費量を修正してください。"
   ]
  },
  {
   "cell_type": "markdown",
   "metadata": {},
   "source": [
    "## 2. 基本的な関数"
   ]
  },
  {
   "cell_type": "markdown",
   "metadata": {},
   "source": [
    "## 1) Bool値の配列(長さ=12)を受け取り該当する月を文字列で返す"
   ]
  },
  {
   "cell_type": "code",
   "execution_count": 2,
   "metadata": {},
   "outputs": [],
   "source": [
    "def get_true_month(v):\n",
    "    if len(v) != 12:\n",
    "        raise ValueError('ERROR: Bool値の配列長が12ではありません。')\n",
    "    months = ['Jan', 'Feb', 'Mar', 'Apl', 'May', 'Jun', 'Jul', 'Aug', 'Sep', 'Oct', 'Nov', 'Dec']\n",
    "    str_months = [m for (i, m) in enumerate(months) if v[i]]\n",
    "    return ', '.join(str_months)"
   ]
  },
  {
   "cell_type": "code",
   "execution_count": 3,
   "metadata": {},
   "outputs": [
    {
     "data": {
      "text/plain": [
       "'Jan, Feb, Mar, Apl, May, Jun, Jul, Aug, Sep, Oct, Nov, Dec'"
      ]
     },
     "execution_count": 3,
     "metadata": {},
     "output_type": "execute_result"
    }
   ],
   "source": [
    "get_true_month([True,True,True,True,True,True,True,True,True,True,True,True])"
   ]
  },
  {
   "cell_type": "markdown",
   "metadata": {},
   "source": [
    "### 2) 値から全体に対する割合を出す関数"
   ]
  },
  {
   "cell_type": "code",
   "execution_count": 4,
   "metadata": {},
   "outputs": [],
   "source": [
    "def get_ratio(vs):\n",
    "    total = sum(vs)\n",
    "    return [0.0 if total == 0.0 else v/total for v in vs]"
   ]
  },
  {
   "cell_type": "markdown",
   "metadata": {},
   "source": [
    "## 3. 中間月（暖房月・冷房月ではない月）の取得"
   ]
  },
  {
   "cell_type": "markdown",
   "metadata": {},
   "source": [
    "### 概要"
   ]
  },
  {
   "cell_type": "markdown",
   "metadata": {},
   "source": [
    "#### 1) 暖房月と冷房月の長さの確認"
   ]
  },
  {
   "cell_type": "markdown",
   "metadata": {},
   "source": [
    "12の配列になっているのかを確認。"
   ]
  },
  {
   "cell_type": "markdown",
   "metadata": {},
   "source": [
    "#### 2) 同じ月に暖房使用月と冷房使用月が同時に発生していないことの確認"
   ]
  },
  {
   "cell_type": "markdown",
   "metadata": {},
   "source": [
    "同じ月に暖房使用月と冷房使用月が同時に発生した場合、用途分解が不可能なため、エラーとしてはじく。"
   ]
  },
  {
   "cell_type": "markdown",
   "metadata": {},
   "source": [
    "#### 3) 中間期の取得"
   ]
  },
  {
   "cell_type": "markdown",
   "metadata": {},
   "source": [
    "暖房月でも冷房月でもない月を中間月とする。"
   ]
  },
  {
   "cell_type": "code",
   "execution_count": 5,
   "metadata": {},
   "outputs": [],
   "source": [
    "def get_intermediate_month(heating_use, cooling_use):\n",
    "    \n",
    "    if len(heating_use) != 12:\n",
    "        raise ValueError('ERROR: 暖房の使用の有無が12ヶ月分ありません。')\n",
    "    \n",
    "    if len(cooling_use) != 12:\n",
    "        raise ValueError('ERROR: 冷房の使用の有無が12ヶ月分ありません。')\n",
    "    \n",
    "    for h,c in zip(heating_use, cooling_use):\n",
    "        if h and c:\n",
    "            raise ValueError('エラー：同じ月に暖房使用月と冷房使用月は同時に設定できません。(' + str(i) + '月)' ) \n",
    "    \n",
    "    intermdeate_month = [h == False and c == False for (h,c) in zip(heating_use, cooling_use)]\n",
    "\n",
    "    return intermdeate_month"
   ]
  },
  {
   "cell_type": "markdown",
   "metadata": {},
   "source": [
    "## 4. 暖冷房・給湯以外の用途のエネルギー消費量の推計（仮決め）"
   ]
  },
  {
   "cell_type": "markdown",
   "metadata": {},
   "source": [
    "### 1) 換気"
   ]
  },
  {
   "cell_type": "code",
   "execution_count": 6,
   "metadata": {},
   "outputs": [],
   "source": [
    "def get_std_consumption_for_ventilation(number_of_people, total_floor_area, ventilation_coeff):\n",
    "    \n",
    "    # general ventilation\n",
    "    c = 33.9 # MJ/m2\n",
    "    anual_general = c * total_floor_area # for general ventilation\n",
    "    \n",
    "    # local ventilation\n",
    "    anual_local = {1 : 130.0, 2 : 259.0, 3 : 389.0, 4 : 518.0}[number_of_people]\n",
    "    \n",
    "    # divide to montly consumption\n",
    "    month_ratios = [8.5, 7.7, 8.5, 8.2, 8.5, 8.2, 8.5, 8.5, 8.2, 8.5, 8.2, 8.5]\n",
    "    return [month_ratio / 100 * (anual_general + anual_local) * ventilation_coeff for month_ratio in month_ratios]"
   ]
  },
  {
   "cell_type": "markdown",
   "metadata": {},
   "source": [
    "#### Example"
   ]
  },
  {
   "cell_type": "code",
   "execution_count": 7,
   "metadata": {},
   "outputs": [
    {
     "data": {
      "text/plain": [
       "[390.04052,\n",
       " 353.33082399999995,\n",
       " 390.04052,\n",
       " 376.27438399999994,\n",
       " 390.04052,\n",
       " 376.27438399999994,\n",
       " 390.04052,\n",
       " 390.04052,\n",
       " 376.27438399999994,\n",
       " 390.04052,\n",
       " 376.27438399999994,\n",
       " 390.04052]"
      ]
     },
     "execution_count": 7,
     "metadata": {},
     "output_type": "execute_result"
    }
   ],
   "source": [
    "get_std_consumption_for_ventilation(4, 120.08, 1.0)"
   ]
  },
  {
   "cell_type": "markdown",
   "metadata": {},
   "source": [
    "### 2) 照明"
   ]
  },
  {
   "cell_type": "code",
   "execution_count": 8,
   "metadata": {},
   "outputs": [],
   "source": [
    "def get_std_consumption_for_lighting(number_of_people,\n",
    "                                     main_habitable_room_floor_area, other_habitable_room_floor_area, total_floor_area,\n",
    "                                     lighting_coeff\n",
    "                                    ):\n",
    "    \n",
    "    non_habitable_room_floor_area = total_floor_area - main_habitable_room_floor_area - other_habitable_room_floor_area\n",
    "    \n",
    "    a_MR, b_MR = {\n",
    "        1: (28.4,  417.2),\n",
    "        2: (58.0,  885.8),\n",
    "        3: (65.7, 1002.3),\n",
    "        4: (73.5, 1118.9)\n",
    "    }[number_of_people]\n",
    "    \n",
    "    a_OR, b_OR = {\n",
    "        1: ( 1.7,  38.5),\n",
    "        2: ( 3.3,  78.0),\n",
    "        3: (15.8, 432.1),\n",
    "        4: (28.2, 786.2)\n",
    "    }[number_of_people]\n",
    "\n",
    "    a_NO, b_NO = {\n",
    "        1: ( 3.2, 193.0),\n",
    "        2: ( 7.8, 458.0),\n",
    "        3: ( 9.7, 580.0),\n",
    "        4: (11.6, 701.0)\n",
    "    }[number_of_people]\n",
    "\n",
    "    anual_MR = a_MR * main_habitable_room_floor_area + b_MR\n",
    "    anual_OR = a_OR * other_habitable_room_floor_area + b_OR\n",
    "    anual_NO = a_NO * non_habitable_room_floor_area + b_NO\n",
    "    \n",
    "    # divide to montly consumption\n",
    "    month_ratios = [8.5, 7.7, 8.5, 8.2, 8.3, 8.2, 8.7, 8.5, 8.2, 8.4, 8.4, 8.4]\n",
    "    \n",
    "    return [month_ratio / 100 * (anual_MR + anual_OR + anual_NO) * lighting_coeff for month_ratio in month_ratios]"
   ]
  },
  {
   "cell_type": "markdown",
   "metadata": {},
   "source": [
    "#### Example"
   ]
  },
  {
   "cell_type": "code",
   "execution_count": 9,
   "metadata": {},
   "outputs": [
    {
     "data": {
      "text/plain": [
       "[573.436435,\n",
       " 519.4659469999999,\n",
       " 573.436435,\n",
       " 553.1975019999999,\n",
       " 559.943813,\n",
       " 553.1975019999999,\n",
       " 586.929057,\n",
       " 573.436435,\n",
       " 553.1975019999999,\n",
       " 566.690124,\n",
       " 566.690124,\n",
       " 566.690124]"
      ]
     },
     "execution_count": 9,
     "metadata": {},
     "output_type": "execute_result"
    }
   ],
   "source": [
    "get_std_consumption_for_lighting(4, 29.81, 54.34, 120.08, 1.0)"
   ]
  },
  {
   "cell_type": "markdown",
   "metadata": {},
   "source": [
    "### 3) 家電"
   ]
  },
  {
   "cell_type": "code",
   "execution_count": 10,
   "metadata": {},
   "outputs": [],
   "source": [
    "def get_std_consumption_for_electric_appliance(number_of_people, electric_appliance_coeff):\n",
    "    \n",
    "    anual = {1:9965.0, 2:12086.0, 3:16523.0, 4:17388}[number_of_people]\n",
    "    \n",
    "    month_ratios = [8.5, 7.7, 8.5, 8.2, 8.3, 8.2, 8.7, 8.5, 8.2, 8.4, 8.4, 8.4]\n",
    "    \n",
    "    return [month_ratio / 100 * anual * electric_appliance_coeff for month_ratio in month_ratios]"
   ]
  },
  {
   "cell_type": "markdown",
   "metadata": {},
   "source": [
    "#### Example"
   ]
  },
  {
   "cell_type": "code",
   "execution_count": 11,
   "metadata": {},
   "outputs": [
    {
     "data": {
      "text/plain": [
       "[1477.98,\n",
       " 1338.876,\n",
       " 1477.98,\n",
       " 1425.8159999999998,\n",
       " 1443.2040000000002,\n",
       " 1425.8159999999998,\n",
       " 1512.7559999999999,\n",
       " 1477.98,\n",
       " 1425.8159999999998,\n",
       " 1460.592,\n",
       " 1460.592,\n",
       " 1460.592]"
      ]
     },
     "execution_count": 11,
     "metadata": {},
     "output_type": "execute_result"
    }
   ],
   "source": [
    "get_std_consumption_for_electric_appliance(4, 1.0)"
   ]
  },
  {
   "cell_type": "markdown",
   "metadata": {},
   "source": [
    "### 4) 調理"
   ]
  },
  {
   "cell_type": "code",
   "execution_count": 12,
   "metadata": {},
   "outputs": [],
   "source": [
    "def get_std_consumption_for_cooking(number_of_people, cooking_coeff):\n",
    "    \n",
    "    anual = {1:2217.0, 2:2724.0, 3:3288.0, 4:3852}[number_of_people]\n",
    "    \n",
    "    month_ratios = [8.6, 7.8, 8.6, 8.1, 8.1, 8.4, 8.6, 8.6, 8.1, 8.4, 8.3, 8.4]\n",
    "    \n",
    "    return [month_ratio / 100 * anual * cooking_coeff for month_ratio in month_ratios]"
   ]
  },
  {
   "cell_type": "markdown",
   "metadata": {},
   "source": [
    "#### Example"
   ]
  },
  {
   "cell_type": "code",
   "execution_count": 13,
   "metadata": {},
   "outputs": [
    {
     "data": {
      "text/plain": [
       "[331.272,\n",
       " 300.456,\n",
       " 331.272,\n",
       " 312.012,\n",
       " 312.012,\n",
       " 323.56800000000004,\n",
       " 331.272,\n",
       " 331.272,\n",
       " 312.012,\n",
       " 323.56800000000004,\n",
       " 319.716,\n",
       " 323.56800000000004]"
      ]
     },
     "execution_count": 13,
     "metadata": {},
     "output_type": "execute_result"
    }
   ],
   "source": [
    "get_std_consumption_for_cooking(4, 1.0)"
   ]
  },
  {
   "cell_type": "markdown",
   "metadata": {},
   "source": [
    "### 5) 暖冷房・給湯以外の消費量"
   ]
  },
  {
   "cell_type": "code",
   "execution_count": 14,
   "metadata": {},
   "outputs": [],
   "source": [
    "def get_std_consumption(number_of_people,\n",
    "                        main_habitable_room_floor_area, other_habitable_room_floor_area, total_floor_area,\n",
    "                        ventilation_coeff, lighting_coeff, electric_appliance_coeff, cooking_coeff,\n",
    "                        ventilation_use, lighting_use, electric_appliance_use, cooking_use\n",
    "                       ):\n",
    "    if ventilation_use:\n",
    "        vent = get_std_consumption_for_ventilation(number_of_people, total_floor_area, ventilation_coeff)\n",
    "    else:\n",
    "        vent = [0.0, 0.0, 0.0, 0.0, 0.0, 0.0, 0.0, 0.0, 0.0, 0.0, 0.0, 0.0]\n",
    "    if lighting_use:\n",
    "        lighting = get_std_consumption_for_lighting(number_of_people,\n",
    "                                                    main_habitable_room_floor_area, other_habitable_room_floor_area, total_floor_area,\n",
    "                                                    lighting_coeff)\n",
    "    else:\n",
    "        lighting = [0.0, 0.0, 0.0, 0.0, 0.0, 0.0, 0.0, 0.0, 0.0, 0.0, 0.0, 0.0]\n",
    "    if electric_appliance_use:\n",
    "        ea = get_std_consumption_for_electric_appliance(number_of_people, electric_appliance_coeff)\n",
    "    else:\n",
    "        ea = [0.0, 0.0, 0.0, 0.0, 0.0, 0.0, 0.0, 0.0, 0.0, 0.0, 0.0, 0.0]\n",
    "    if cooking_use:\n",
    "        cooking = get_std_consumption_for_cooking(number_of_people, cooking_coeff)\n",
    "    else:\n",
    "        cooking = [0.0, 0.0, 0.0, 0.0, 0.0, 0.0, 0.0, 0.0, 0.0, 0.0, 0.0, 0.0]\n",
    "    \n",
    "    total = [v+l+e+c for (v,l,e,c) in zip(vent, lighting, ea, cooking)]\n",
    "\n",
    "    return vent, lighting, ea, cooking, total"
   ]
  },
  {
   "cell_type": "markdown",
   "metadata": {},
   "source": [
    "#### Example"
   ]
  },
  {
   "cell_type": "code",
   "execution_count": 15,
   "metadata": {},
   "outputs": [
    {
     "data": {
      "text/plain": [
       "([390.04052,\n",
       "  353.33082399999995,\n",
       "  390.04052,\n",
       "  376.27438399999994,\n",
       "  390.04052,\n",
       "  376.27438399999994,\n",
       "  390.04052,\n",
       "  390.04052,\n",
       "  376.27438399999994,\n",
       "  390.04052,\n",
       "  376.27438399999994,\n",
       "  390.04052],\n",
       " [573.436435,\n",
       "  519.4659469999999,\n",
       "  573.436435,\n",
       "  553.1975019999999,\n",
       "  559.943813,\n",
       "  553.1975019999999,\n",
       "  586.929057,\n",
       "  573.436435,\n",
       "  553.1975019999999,\n",
       "  566.690124,\n",
       "  566.690124,\n",
       "  566.690124],\n",
       " [1477.98,\n",
       "  1338.876,\n",
       "  1477.98,\n",
       "  1425.8159999999998,\n",
       "  1443.2040000000002,\n",
       "  1425.8159999999998,\n",
       "  1512.7559999999999,\n",
       "  1477.98,\n",
       "  1425.8159999999998,\n",
       "  1460.592,\n",
       "  1460.592,\n",
       "  1460.592],\n",
       " [331.272,\n",
       "  300.456,\n",
       "  331.272,\n",
       "  312.012,\n",
       "  312.012,\n",
       "  323.56800000000004,\n",
       "  331.272,\n",
       "  331.272,\n",
       "  312.012,\n",
       "  323.56800000000004,\n",
       "  319.716,\n",
       "  323.56800000000004],\n",
       " [2772.728955,\n",
       "  2512.1287709999997,\n",
       "  2772.728955,\n",
       "  2667.299886,\n",
       "  2705.2003330000002,\n",
       "  2678.855886,\n",
       "  2820.9975769999996,\n",
       "  2772.728955,\n",
       "  2667.299886,\n",
       "  2740.890644,\n",
       "  2723.272508,\n",
       "  2740.890644])"
      ]
     },
     "execution_count": 15,
     "metadata": {},
     "output_type": "execute_result"
    }
   ],
   "source": [
    "get_std_consumption(4, 29.81, 54.34, 120.08, 1.0, 1.0, 1.0, 1.0, True, True, True, True)"
   ]
  },
  {
   "cell_type": "markdown",
   "metadata": {},
   "source": [
    "## 6. 暖冷房・給湯以外の用途が月別消費量を超えていないかどうかを確認し暖冷房・給湯の月別消費量を取得（給湯使用がある場合のみ）"
   ]
  },
  {
   "cell_type": "code",
   "execution_count": 16,
   "metadata": {},
   "outputs": [],
   "source": [
    "def get_h_c_hws_value(total_std, consumption):\n",
    "\n",
    "    def check(i, s, c):\n",
    "        if s > c:\n",
    "            raise ValueError('ERROR: 暖冷房・給湯以外の用途が月消費量を超えています。(' + str(i) + '月)' )\n",
    "    \n",
    "    # 暖冷房・給湯以外の用途が月別消費量を超えていないかどうかを確認\n",
    "    [check(i,s,c) for (i, (s,c)) in enumerate(zip(total_std, consumption))]\n",
    "    \n",
    "    return [c-s for (s,c) in zip(total_std, consumption)]"
   ]
  },
  {
   "cell_type": "markdown",
   "metadata": {},
   "source": [
    "## 7. 給湯消費量の月別割合（給湯使用がある場合のみ）"
   ]
  },
  {
   "cell_type": "code",
   "execution_count": 17,
   "metadata": {},
   "outputs": [],
   "source": [
    "def get_hws_ratio():\n",
    "    return [\n",
    "        0.113029483482984,\n",
    "        0.103264264682528,\n",
    "        0.108322913038195,\n",
    "        0.0884022587794812,\n",
    "        0.0750187062626471,\n",
    "        0.0653395455302283,\n",
    "        0.0616377958319547,\n",
    "        0.0519224042745101,\n",
    "        0.0597337741598062,\n",
    "        0.0772954737578718,\n",
    "        0.0922799475117598,\n",
    "        0.103753432688034\n",
    "    ]"
   ]
  },
  {
   "cell_type": "markdown",
   "metadata": {},
   "source": [
    "## 8. 暖冷房・給湯に使用していない月の消費割合と消費量から月消費量を求める"
   ]
  },
  {
   "cell_type": "code",
   "execution_count": 18,
   "metadata": {},
   "outputs": [],
   "source": [
    "def get_monthly_value(ratio, middle_month, consumption):\n",
    "    \n",
    "    def mr(r, m):\n",
    "        return r if m else 0.0\n",
    "    \n",
    "    middle_month_ratio = [mr(r,m) for (r,m) in zip(ratio, middle_month)]    \n",
    "    middle_month_consumption = [mr(c,m) for (c,m) in zip(consumption, middle_month)]\n",
    "    \n",
    "    if True in middle_month:\n",
    "        sum_ratio = sum(middle_month_ratio)\n",
    "        sum_consumption = sum(middle_month_consumption)\n",
    "    else:\n",
    "        sum_ratio = min(ratio)\n",
    "        sum_consumption = min(consumption)\n",
    "    \n",
    "    annual_consumption = 0.0 if sum_ratio == 0.0 else sum_consumption / sum_ratio\n",
    "    \n",
    "    def get_monthly(m,c,r,ac):\n",
    "        if m:\n",
    "            return c\n",
    "        else:\n",
    "            return min(c, ac*r)\n",
    "    \n",
    "    return [get_monthly(m,c,r,annual_consumption) for (m,c,r) in zip(middle_month, consumption, ratio)]"
   ]
  },
  {
   "cell_type": "markdown",
   "metadata": {},
   "source": [
    "#### Example"
   ]
  },
  {
   "cell_type": "code",
   "execution_count": 19,
   "metadata": {},
   "outputs": [
    {
     "data": {
      "text/plain": [
       "[3818.9285714285716,\n",
       " 3459.5,\n",
       " 3818.9285714285716,\n",
       " 3684.1428571428573,\n",
       " 3729.071428571429,\n",
       " 3684.1428571428573,\n",
       " 3908.7857142857138,\n",
       " 3818.9285714285716,\n",
       " 3684.1428571428573,\n",
       " 3774.0,\n",
       " 3774.0,\n",
       " 3774.0]"
      ]
     },
     "execution_count": 19,
     "metadata": {},
     "output_type": "execute_result"
    }
   ],
   "source": [
    "get_monthly_value([0.085, 0.077, 0.085, 0.082, 0.083, 0.082, 0.087, 0.085, 0.082, 0.084, 0.084, 0.084],\n",
    "                  [False, False, False, False, False, False, False, False, False, True, False, False],\n",
    "                  [7519.0, 6810.0, 6588.0, 4422.0, 3791.0, 4032.0, 5420.0, 5458.0, 4212.0, 3774.0, 4661.0, 6705.0])"
   ]
  },
  {
   "cell_type": "markdown",
   "metadata": {},
   "source": [
    "## 9. 暖冷房消費量を求める（給湯使用がある場合のみ）"
   ]
  },
  {
   "cell_type": "code",
   "execution_count": 20,
   "metadata": {},
   "outputs": [],
   "source": [
    "def get_h_w(heating_use, cooling_use, h_c_hws, hws):\n",
    "    heating = [c-n if u else 0.0 for (c,n,u) in zip(h_c_hws, hws, heating_use)]\n",
    "    cooling = [c-n if u else 0.0 for (c,n,u) in zip(h_c_hws, hws, cooling_use)]\n",
    "    return heating, cooling"
   ]
  },
  {
   "cell_type": "markdown",
   "metadata": {},
   "source": [
    "## 10. 全用途の消費量（給湯使用がない場合のみ）"
   ]
  },
  {
   "cell_type": "code",
   "execution_count": 21,
   "metadata": {},
   "outputs": [],
   "source": [
    "def get_all_use(htg_use, ckg_use, consumption, v_l_e_c,\n",
    "                vnt_prv, lgt_prv, eap_prv, ckg_prv, v_l_e_c_prv):\n",
    "    \n",
    "    htg = [c-n if u else 0.0 for (c,n,u) in zip(consumption, v_l_e_c, htg_use)]\n",
    "    clg = [c-n if u else 0.0 for (c,n,u) in zip(consumption, v_l_e_c, ckg_use)]\n",
    "    hws = [0.0, 0.0, 0.0, 0.0, 0.0, 0.0, 0.0, 0.0, 0.0, 0.0, 0.0, 0.0]\n",
    "    vnt = [0.0 if s==0.0 else n*v/s for (n,v,s) in zip(v_l_e_c, vnt_prv, v_l_e_c_prv)]\n",
    "    ltg = [0.0 if s==0.0 else n*l/s for (n,l,s) in zip(v_l_e_c, lgt_prv, v_l_e_c_prv)]\n",
    "    eap = [0.0 if s==0.0 else n*e/s for (n,e,s) in zip(v_l_e_c, eap_prv, v_l_e_c_prv)]\n",
    "    ckg = [0.0 if s==0.0 else n*c/s for (n,c,s) in zip(v_l_e_c, ckg_prv, v_l_e_c_prv)]\n",
    "    \n",
    "    return htg, clg, hws, vnt, ltg, eap, ckg"
   ]
  },
  {
   "cell_type": "code",
   "execution_count": 22,
   "metadata": {},
   "outputs": [
    {
     "data": {
      "text/plain": [
       "([3702.0, 3351.0, 2771.0, 750.0, 0.0, 0.0, 0.0, 0.0, 0.0, 0.0, 912.0, 2931.0],\n",
       " [0.0, 0.0, 0.0, 0.0, 67.0, 344.0, 1536.0, 1641.0, 540.0, 0.0, 0.0, 0.0],\n",
       " [0.0, 0.0, 0.0, 0.0, 0.0, 0.0, 0.0, 0.0, 0.0, 0.0, 0.0, 0.0],\n",
       " [536.9384058096656,\n",
       "  486.50822932515985,\n",
       "  536.9384058096656,\n",
       "  518.0068222924973,\n",
       "  536.932839598316,\n",
       "  518.0196275000364,\n",
       "  537.0147752097839,\n",
       "  536.9384058096656,\n",
       "  518.0068222924973,\n",
       "  537.0564220438121,\n",
       "  517.9990843633927,\n",
       "  537.0564220438121],\n",
       " [789.4052783082074,\n",
       "  715.2629799139386,\n",
       "  789.4052783082074,\n",
       "  761.5721194328429,\n",
       "  770.8230455892082,\n",
       "  761.5909456116223,\n",
       "  808.094440057011,\n",
       "  789.4052783082074,\n",
       "  761.5721194328429,\n",
       "  780.2896232499234,\n",
       "  780.135395424041,\n",
       "  780.2896232499234],\n",
       " [2034.619954405172,\n",
       "  1843.5249567865403,\n",
       "  2034.619954405172,\n",
       "  1962.8825313120417,\n",
       "  1986.7259479595814,\n",
       "  1962.9310540671615,\n",
       "  2082.789560651934,\n",
       "  2034.619954405172,\n",
       "  1962.8825313120417,\n",
       "  2011.1251866493658,\n",
       "  2010.7276785243414,\n",
       "  2011.1251866493658],\n",
       " [456.03636147695505,\n",
       "  413.70383397436115,\n",
       "  456.03636147695505,\n",
       "  429.53852696261845,\n",
       "  429.51816685289464,\n",
       "  445.45837282117986,\n",
       "  456.1012240812711,\n",
       "  456.03636147695505,\n",
       "  429.53852696261845,\n",
       "  445.5287680568988,\n",
       "  440.1378416882252,\n",
       "  445.5287680568988])"
      ]
     },
     "execution_count": 22,
     "metadata": {},
     "output_type": "execute_result"
    }
   ],
   "source": [
    "get_all_use([True, True, True, True, False, False, False, False, False, False, True, True],\n",
    "            [False, False, False, False, True, True, True, True, True, False, False, False],\n",
    "            [7519.0, 6810.0, 6588.0, 4422.0, 3791.0, 4032.0, 5420.0, 5458.0, 4212.0, 3774.0, 4661.0, 6705.0],\n",
    "            [3817.0, 3459.0, 3817.0, 3672.0, 3724.0, 3688.0, 3884.0, 3817.0, 3672.0, 3774.0, 3749.0, 3774.0],\n",
    "            [390.04052, 353.330824, 390.04052, 376.274384, 390.04052, 376.274384, 390.04052, 390.04052, 376.274384, 390.04052, 376.274384, 390.04052],\n",
    "            [573.436435, 519.465947, 573.436435, 553.197502, 559.943813, 553.197502, 586.929057, 573.436435, 553.197502, 566.690124, 566.690124, 566.690124],\n",
    "            [1477.98, 1338.876, 1477.98, 1425.816, 1443.204, 1425.816, 1512.756, 1477.98, 1425.816, 1460.592, 1460.592, 1460.592],\n",
    "            [331.272, 300.456, 331.272, 312.012, 312.012, 323.568, 331.272, 331.272, 312.012, 323.568, 319.716, 323.568],\n",
    "            [2772.728955, 2512.128771, 2772.728955, 2667.299886, 2705.200333, 2678.855886, 2820.997577, 2772.728955, 2667.299886, 2740.890644, 2723.272508, 2740.890644])"
   ]
  },
  {
   "cell_type": "markdown",
   "metadata": {},
   "source": [
    "## 11. 全体計算"
   ]
  },
  {
   "cell_type": "code",
   "execution_count": 23,
   "metadata": {},
   "outputs": [],
   "source": [
    "def kernel(number_of_people,\n",
    "           main_habitable_room_floor_area, other_habitable_room_floor_area, total_floor_area,\n",
    "           consumption,\n",
    "           heating_use,\n",
    "           cooling_use,\n",
    "           ventilation_use, ventilation_coeff,\n",
    "           hws_use, hws_coeff,\n",
    "           lighting_use, lighting_coeff,\n",
    "           ea_use, ea_coeff,\n",
    "           cooking_use, cooking_coeff,\n",
    "           comment\n",
    "          ):\n",
    "    \n",
    "    intermdeate_month = get_intermediate_month(heating_use, cooling_use)\n",
    "    if comment:\n",
    "        print('中間月: ' + get_true_month(intermdeate_month))\n",
    "    \n",
    "    vnt_prv, lgt_prv, eap_prv, ckg_prv, v_l_e_c_prv \\\n",
    "        = get_std_consumption(number_of_people,\n",
    "                              main_habitable_room_floor_area, other_habitable_room_floor_area, total_floor_area,\n",
    "                              ventilation_coeff, lighting_coeff, ea_coeff, cooking_coeff,\n",
    "                              ventilation_use, lighting_use, ea_use, cooking_use\n",
    "                             )\n",
    "\n",
    "    if comment:\n",
    "        print('調整前の消費量')\n",
    "        print('換気: ' + str(list(map(int,vnt_prv))))\n",
    "        print('照明: ' + str(list(map(int,lgt_prv))))\n",
    "        print('家電: ' + str(list(map(int,eap_prv))))\n",
    "        print('調理: ' + str(list(map(int,ckg_prv))))\n",
    "        print('全体: ' + str(list(map(int,v_l_e_c_prv))))\n",
    "\n",
    "    if hws_use:\n",
    "        \n",
    "        if comment:\n",
    "            print('給湯使用がある場合')\n",
    "\n",
    "        h_c_hws = get_h_c_hws_value(v_l_e_c_prv, consumption)\n",
    "        if comment:\n",
    "            print('暖冷房給湯消費量: ' + str(list(map(int, h_c_hws))))\n",
    "        \n",
    "        hws = get_monthly_value(get_hws_ratio(), intermdeate_month, h_c_hws)\n",
    "        if comment:\n",
    "            print('給湯消費量: ' + str(list(map(int, hws))))\n",
    "        \n",
    "        htg, clg = get_h_w(heating_use, cooling_use, h_c_hws, hws)\n",
    "        vnt, lgt, eap, ckg = vnt_prv, lgt_prv, eap_prv, ckg_prv\n",
    "\n",
    "    else:\n",
    "        \n",
    "        if comment:\n",
    "            print('給湯使用がない場合')\n",
    "        \n",
    "        v_l_e_c = get_monthly_value(get_ratio(v_l_e_c_prv), intermdeate_month, consumption)\n",
    "        if comment:\n",
    "            print('換気照明家電調理の消費量: ' + str(list(map(int, v_l_e_c))))\n",
    "        \n",
    "        htg, clg, hws, vnt, lgt, eap, ckg \\\n",
    "            = get_all_use(heating_use, cooling_use, consumption, v_l_e_c,\n",
    "                          vnt_prv, lgt_prv, eap_prv, ckg_prv, v_l_e_c_prv)\n",
    "        \n",
    "    return htg, clg, hws, vnt, lgt, eap, ckg"
   ]
  },
  {
   "cell_type": "markdown",
   "metadata": {},
   "source": [
    "## 12. 入力値のコンバート"
   ]
  },
  {
   "cell_type": "code",
   "execution_count": 24,
   "metadata": {},
   "outputs": [],
   "source": [
    "def analysis(d, comment):\n",
    "    return kernel(\n",
    "        number_of_people = d['general']['number_of_people'],\n",
    "        main_habitable_room_floor_area = d['general']['main_habitable_room_floor_area'],\n",
    "        other_habitable_room_floor_area = d['general']['other_habitable_room_floor_area'],\n",
    "        total_floor_area = d['general']['total_floor_area'],\n",
    "        consumption = d['consumption'],\n",
    "        heating_use = d['heating']['use'],\n",
    "        cooling_use = d['cooling']['use'],\n",
    "        ventilation_use = d['ventilation']['use'],\n",
    "        ventilation_coeff = d['ventilation']['coeff'],\n",
    "        hws_use = d['hot_water_supply']['use'],\n",
    "        hws_coeff = d['hot_water_supply']['coeff'],\n",
    "        lighting_use = d['lighting']['use'],\n",
    "        lighting_coeff = d['lighting']['coeff'],\n",
    "        ea_use = d['electric_appliance']['use'],\n",
    "        ea_coeff = d['electric_appliance']['coeff'],\n",
    "        cooking_use = d['cooking']['use'],\n",
    "        cooking_coeff = d['cooking']['coeff'],\n",
    "        comment = comment\n",
    "    )"
   ]
  },
  {
   "cell_type": "markdown",
   "metadata": {},
   "source": [
    "## 13. 結果の描画"
   ]
  },
  {
   "cell_type": "markdown",
   "metadata": {},
   "source": [
    "### 1) グラフ"
   ]
  },
  {
   "cell_type": "code",
   "execution_count": 25,
   "metadata": {},
   "outputs": [],
   "source": [
    "def plot_fig(htg, clg, hws, vnt, lgt, eap, ckg):\n",
    "    \n",
    "    y_htg = np.array(htg)\n",
    "    y_clg = np.array(clg)\n",
    "    y_hws = np.array(hws)\n",
    "    y_vnt = np.array(vnt)\n",
    "    y_lgt = np.array(lgt)\n",
    "    y_eap = np.array(eap)\n",
    "    y_ckg = np.array(ckg)\n",
    "    \n",
    "    figure, ax  = plt.subplots(1,1,figsize=(15,8))\n",
    "    x = range(12)\n",
    "    \n",
    "    ax.bar(x, y_ckg, color='k', width=0.9, label='cooking')\n",
    "    ax.bar(x, y_eap, color='g', width=0.9, label='electric appliances', bottom = y_ckg)\n",
    "    ax.bar(x, y_lgt, color='y', width=0.9, label='lighting', bottom = y_ckg+y_eap)\n",
    "    ax.bar(x, y_vnt, color='c', width=0.9, label='ventilation', bottom = y_ckg+y_eap+y_lgt)\n",
    "    ax.bar(x, y_hws, color='m', width=0.9, label='how water supply', bottom = y_ckg+y_eap+y_lgt+y_vnt)\n",
    "    ax.bar(x, y_clg, color='b', width=0.9, label='cooling', bottom = y_ckg+y_eap+y_lgt+y_vnt+y_hws)\n",
    "    ax.bar(x, y_htg, color='r', width=0.9, label='heating', bottom = y_ckg+y_eap+y_lgt+y_vnt+y_hws+y_clg)\n",
    "    \n",
    "    ax.set_xticks(range(12))\n",
    "    ax.set_xticklabels(['Jan','Feb','Mar','Apr','May','Jun','Jly','Aug','Sep','Otc','Nov','Dec'])\n",
    "    ax.legend()\n",
    "    plt.show()"
   ]
  },
  {
   "cell_type": "markdown",
   "metadata": {},
   "source": [
    "### 2) 表"
   ]
  },
  {
   "cell_type": "code",
   "execution_count": 26,
   "metadata": {},
   "outputs": [],
   "source": [
    "def plot_table(htg, clg, hws, vnt, lgt, eap, ckg, consumption):\n",
    "    df = pd.DataFrame({'暖房': list(map(int, htg)),\n",
    "                       '冷房': list(map(int, clg)),\n",
    "                       '給湯': list(map(int, hws)),\n",
    "                       '換気': list(map(int, vnt)),\n",
    "                       '照明': list(map(int, lgt)),\n",
    "                       '家電': list(map(int, eap)),\n",
    "                       '調理': list(map(int, ckg)),\n",
    "                       '分解前': list(map(int, consumption))},\n",
    "                       index=['Jan','Feb','Mar','Apr','May','Jun','Jly','Aug','Sep','Otc','Nov','Dec'])\n",
    "    return df.T"
   ]
  },
  {
   "cell_type": "markdown",
   "metadata": {},
   "source": [
    "## 14. 最終的な関数"
   ]
  },
  {
   "cell_type": "code",
   "execution_count": 27,
   "metadata": {},
   "outputs": [],
   "source": [
    "def analysis_and_plot(d):\n",
    "    htg, clg, hws, vnt, lgt, eap, ckg = analysis(d, False)\n",
    "    plot_fig(htg, clg, hws, vnt, lgt, eap, ckg)\n",
    "    print(plot_table(htg, clg, hws, vnt, lgt, eap, ckg, d['consumption']))"
   ]
  },
  {
   "cell_type": "markdown",
   "metadata": {},
   "source": [
    "## 15. 使用例"
   ]
  },
  {
   "cell_type": "markdown",
   "metadata": {},
   "source": [
    "### 15.1 入力データ"
   ]
  },
  {
   "cell_type": "markdown",
   "metadata": {},
   "source": [
    "#### 1) 全体"
   ]
  },
  {
   "cell_type": "markdown",
   "metadata": {},
   "source": [
    "辞書型データのKeyとして、  \n",
    "\n",
    "- general\n",
    "- consumption\n",
    "- heating\n",
    "- cooling\n",
    "- ventilation\n",
    "- hot_water_supply\n",
    "- lighting\n",
    "- electric_appliance\n",
    "- cooking\n",
    "\n",
    "を持ちます。"
   ]
  },
  {
   "cell_type": "markdown",
   "metadata": {},
   "source": [
    "#### 2) general"
   ]
  },
  {
   "cell_type": "markdown",
   "metadata": {},
   "source": [
    "'general'はさらに、\n",
    "\n",
    "- number_of_people\n",
    "- main_habitable_room_floor_area\n",
    "- other_habitale_room_floor_area\n",
    "- total_floor_area\n",
    "\n",
    "を持ちます。"
   ]
  },
  {
   "cell_type": "markdown",
   "metadata": {},
   "source": [
    "'number_of_people': 世帯の人数です。1～4人の数字を入力します。5人以上の計算には対応していないため、その場合は4人として推計してください。  \n",
    "'main_habitable_room_floor_area': 主たる居室の床面積(m2)です。  \n",
    "'othera_habitable_room_floor_area': その他の居室の床面積(m2)です。  \n",
    "'total_floor_area': 述べ床面積(m2)です。  \n",
    "主たる居室の床面積とその他の居室の床面積の合計が、述べ床面積を超えないようにしてください。"
   ]
  },
  {
   "cell_type": "markdown",
   "metadata": {},
   "source": [
    "```\n",
    "'general' : {\n",
    "    'number_of_people' : 4,\n",
    "    'main_habitable_room_floor_area' : 29.81,\n",
    "    'other_habitable_room_floor_area' : 54.34,\n",
    "    'total_floor_area' : 120.08,\n",
    "}\n",
    "```"
   ]
  },
  {
   "cell_type": "markdown",
   "metadata": {},
   "source": [
    "#### 3) consumption"
   ]
  },
  {
   "cell_type": "markdown",
   "metadata": {},
   "source": [
    "'consumption'は月ごとのエネルギー消費量であり、電力の場合はkWhまたはMJ、ガスの場合はm3またはMJ、灯油の場合はLまたはMJで入力します。月ごとの値はリストで指定します。リストの長さは必ず12でないといけません。"
   ]
  },
  {
   "cell_type": "markdown",
   "metadata": {},
   "source": [
    "```\n",
    "'consumption' : [ 0.0, 0.0, 0.0, 0.0, 0.0, 0.0, 0.0, 0.0, 0.0, 0.0, 0.0, 0.0 ]\n",
    "```"
   ]
  },
  {
   "cell_type": "markdown",
   "metadata": {},
   "source": [
    "#### 4) heating"
   ]
  },
  {
   "cell_type": "markdown",
   "metadata": {},
   "source": [
    "'heating'はさらに、\n",
    "\n",
    "- use\n",
    "\n",
    "を持ちます。"
   ]
  },
  {
   "cell_type": "markdown",
   "metadata": {},
   "source": [
    "'use'は暖房の使用月であり、長さ12のリストで指定します。暖房を使用している場合は、Trueを、使用していない場合は、Falseを指定します。"
   ]
  },
  {
   "cell_type": "markdown",
   "metadata": {},
   "source": [
    "```\n",
    "'heating' : {\n",
    "    'use' : [True, True, True, True, False, False, False, False, False, False, True, True]\n",
    "}\n",
    "```"
   ]
  },
  {
   "cell_type": "markdown",
   "metadata": {},
   "source": [
    "#### 5) cooling"
   ]
  },
  {
   "cell_type": "markdown",
   "metadata": {},
   "source": [
    "'cooling'はさらに、\n",
    "\n",
    "- use\n",
    "\n",
    "を持ちます。"
   ]
  },
  {
   "cell_type": "markdown",
   "metadata": {},
   "source": [
    "'use'は暖房の使用月であり、長さ12のリストで指定します。暖房を使用している場合は、Trueを、使用していない場合は、Falseを指定します。"
   ]
  },
  {
   "cell_type": "markdown",
   "metadata": {},
   "source": [
    "```\n",
    "'cooling' : {\n",
    "    'use' : [False, False, False, False, True, True, True, True, True, False, False, False]\n",
    "}\n",
    "```"
   ]
  },
  {
   "cell_type": "markdown",
   "metadata": {},
   "source": [
    "#### 6) ventilation / hot_water_supply / lighting / electric_appliance / cooking"
   ]
  },
  {
   "cell_type": "markdown",
   "metadata": {},
   "source": [
    "'ventilation' 'ventilation' 'hot_water_supply' 'lighting' 'electric_appliance' 'cooking' それぞれ、はさらに、\n",
    "\n",
    "- use\n",
    "- coef\n",
    "\n",
    "を持ちます。"
   ]
  },
  {
   "cell_type": "markdown",
   "metadata": {},
   "source": [
    "'use'は、その用途にエネルギーが使われているかを指定します。True / False で指定します。Falsew を指定した場合は、'coef'の値は無視されます。  \n",
    "'coef'は、調整係数を表します。調整係数とは、本計算方法によって計算された分解後の用途別給湯消費量を調整する役割を表しています。係数=1.0の場合は調整なしです。係数を1.0より大きくすると、該当する用途の消費量が増え、代わりにその他の用途の消費量が減ります。係数を1.0より小さくすると、該当する用途の消費量が減り、代わりにその他の用途の消費量が増えます。使用実態や居住者へのヒアリング結果などを踏まえて、係数の調整をしてください。係数の調整の仕方がわからない場合は、デフォルト値の1.0としておいてください。"
   ]
  },
  {
   "cell_type": "markdown",
   "metadata": {},
   "source": [
    "```\n",
    "'ventilation' : { 'use' : True, 'coeff' : 1.0 },\n",
    "'hot_water_supply' : { 'use' : False, 'coeff' : 1.0 },\n",
    "'lighting' : { 'use' : True, 'coeff' : 1.0 },\n",
    "'electric_appliance' : { 'use' : True, 'coeff' : 1.0 },\n",
    "'cooking' : { 'use' : True, 'coeff' : 1.0 }\n",
    "```"
   ]
  },
  {
   "cell_type": "markdown",
   "metadata": {},
   "source": [
    "### 15.2 計算例"
   ]
  },
  {
   "cell_type": "markdown",
   "metadata": {},
   "source": [
    "給湯を除く暖冷房・換気・照明・家電・調理に電力を使用する場合"
   ]
  },
  {
   "cell_type": "code",
   "execution_count": 28,
   "metadata": {},
   "outputs": [
    {
     "data": {
      "image/png": "[encoded data removed]",
      "text/plain": [
       "<Figure size 1080x576 with 1 Axes>"
      ]
     },
     "metadata": {},
     "output_type": "display_data"
    },
    {
     "name": "stdout",
     "output_type": "stream",
     "text": [
      "      Jan   Feb   Mar   Apr   May   Jun   Jly   Aug   Sep   Otc   Nov   Dec\n",
      "暖房   3701  3350  2770   749     0     0     0     0     0     0   911  2931\n",
      "冷房      0     0     0     0    66   343  1535  1640   539     0     0     0\n",
      "給湯      0     0     0     0     0     0     0     0     0     0     0     0\n",
      "換気    537   486   537   518   537   518   537   537   518   537   518   537\n",
      "照明    789   715   789   761   771   761   808   789   761   780   780   780\n",
      "家電   2035  1843  2035  1963  1987  1963  2082  2035  1963  2011  2011  2011\n",
      "調理    456   413   456   429   429   445   456   456   429   445   440   445\n",
      "分解前  7519  6810  6588  4422  3791  4032  5420  5458  4212  3774  4661  6705\n"
     ]
    }
   ],
   "source": [
    "analysis_and_plot({\n",
    "    'general' : {\n",
    "        'number_of_people' : 4,\n",
    "        'main_habitable_room_floor_area' : 29.81,\n",
    "        'other_habitable_room_floor_area' : 54.34,\n",
    "        'total_floor_area' : 120.08,\n",
    "    },\n",
    "    'consumption' : [7519, 6810, 6588, 4422, 3791, 4032, 5420, 5458, 4212, 3774, 4661, 6705], \n",
    "    'heating' : {\n",
    "        'use' : [True, True, True, True, False, False, False, False, False, False, True, True]\n",
    "    },\n",
    "    'cooling' : {\n",
    "        'use' : [False, False, False, False, True, True, True, True, True, False, False, False]\n",
    "    },\n",
    "    'ventilation' : { 'use' : True, 'coeff' : 1.0 },\n",
    "    'hot_water_supply' : { 'use' : False, 'coeff' : 1.0 },\n",
    "    'lighting' : { 'use' : True, 'coeff' : 1.0 },\n",
    "    'electric_appliance' : { 'use' : True, 'coeff' : 1.0 },\n",
    "    'cooking' : { 'use' : True, 'coeff' : 1.0 }\n",
    "})"
   ]
  },
  {
   "cell_type": "markdown",
   "metadata": {},
   "source": [
    "全用途に電力を使用する場合"
   ]
  },
  {
   "cell_type": "code",
   "execution_count": 29,
   "metadata": {
    "collapsed": true
   },
   "outputs": [
    {
     "data": {
      "image/png": "[encoded data removed]",
      "text/plain": [
       "<Figure size 1080x576 with 1 Axes>"
      ]
     },
     "metadata": {},
     "output_type": "display_data"
    },
    {
     "name": "stdout",
     "output_type": "stream",
     "text": [
      "      Jan   Feb   Mar   Apr   May   Jun   Jly   Aug   Sep   Otc   Nov   Dec\n",
      "暖房   3235  2917  2367   573     0     0     0     0     0     0   704  2577\n",
      "冷房      0     0     0     0    83   479  1775  1991   746     0     0     0\n",
      "給湯   1510  1380  1447  1181  1002   873   823   693   798  1033  1233  1386\n",
      "換気    390   353   390   376   390   376   390   390   376   390   376   390\n",
      "照明    573   519   573   553   559   553   586   573   553   566   566   566\n",
      "家電   1477  1338  1477  1425  1443  1425  1512  1477  1425  1460  1460  1460\n",
      "調理    331   300   331   312   312   323   331   331   312   323   319   323\n",
      "分解前  7519  6810  6588  4422  3791  4032  5420  5458  4212  3774  4661  6705\n"
     ]
    }
   ],
   "source": [
    "analysis_and_plot({\n",
    "    'general' : {\n",
    "        'number_of_people' : 4,\n",
    "        'main_habitable_room_floor_area' : 29.81,\n",
    "        'other_habitable_room_floor_area' : 54.34,\n",
    "        'total_floor_area' : 120.08,\n",
    "    },\n",
    "    'consumption' : [7519, 6810, 6588, 4422, 3791, 4032, 5420, 5458, 4212, 3774, 4661, 6705], \n",
    "    'heating' : {\n",
    "        'use' : [True, True, True, True, False, False, False, False, False, False, True, True]\n",
    "    },\n",
    "    'cooling' : {\n",
    "        'use' : [False, False, False, False, True, True, True, True, True, False, False, False]\n",
    "    },\n",
    "    'ventilation' : { 'use' : True, 'coeff' : 1.0 },\n",
    "    'hot_water_supply' : { 'use' : True, 'coeff' : 1.0 },\n",
    "    'lighting' : { 'use' : True, 'coeff' : 1.0 },\n",
    "    'electric_appliance' : { 'use' : True, 'coeff' : 1.0 },\n",
    "    'cooking' : { 'use' : True, 'coeff' : 1.0 }\n",
    "})"
   ]
  },
  {
   "cell_type": "markdown",
   "metadata": {},
   "source": [
    "暖房・給湯・調理にガスを使用する場合"
   ]
  },
  {
   "cell_type": "code",
   "execution_count": 30,
   "metadata": {},
   "outputs": [
    {
     "data": {
      "image/png": "[encoded data removed]",
      "text/plain": [
       "<Figure size 1080x576 with 1 Axes>"
      ]
     },
     "metadata": {},
     "output_type": "display_data"
    },
    {
     "name": "stdout",
     "output_type": "stream",
     "text": [
      "      Jan   Feb   Mar   Apr   May   Jun   Jly  Aug   Sep   Otc   Nov   Dec\n",
      "暖房   3266  2961  2398   586     0     0     0    0     0     0   753  2602\n",
      "冷房      0     0     0     0     0     0     0    0     0     0     0     0\n",
      "給湯   1471  1344  1410  1151  1058   847   751  647   763  1021  1201  1351\n",
      "換気      0     0     0     0     0     0     0    0     0     0     0     0\n",
      "照明      0     0     0     0     0     0     0    0     0     0     0     0\n",
      "家電      0     0     0     0     0     0     0    0     0     0     0     0\n",
      "調理    331   300   331   312   312   323   331  331   312   323   319   323\n",
      "分解前  5070  4607  4140  2050  1371  1171  1083  979  1076  1345  2275  4277\n"
     ]
    }
   ],
   "source": [
    "analysis_and_plot({\n",
    "    'general' : {\n",
    "        'number_of_people' : 4,\n",
    "        'main_habitable_room_floor_area' : 29.81,\n",
    "        'other_habitable_room_floor_area' : 54.34,\n",
    "        'total_floor_area' : 120.08,\n",
    "    },\n",
    "    'consumption' : [5070, 4607, 4140, 2050, 1371, 1171, 1083, 979, 1076, 1345, 2275, 4277],\n",
    "    'heating' : {\n",
    "        'use' : [True, True, True, True, False, False, False, False, False, False, True, True]\n",
    "    },\n",
    "    'cooling' : {\n",
    "        'use' : [False, False, False, False, False, False, False, False, False, False, False, False]\n",
    "    },\n",
    "    'ventilation' : { 'use' : False, 'coeff' : 1.0 },\n",
    "    'hot_water_supply' : { 'use' : True, 'coeff' : 1.0 },\n",
    "    'lighting' : { 'use' : False, 'coeff' : 1.0 },\n",
    "    'electric_appliance' : { 'use' : False, 'coeff' : 1.0 },\n",
    "    'cooking' : { 'use' : True, 'coeff' : 1.0 }\n",
    "})"
   ]
  },
  {
   "cell_type": "markdown",
   "metadata": {},
   "source": [
    "暖房・調理にガスを使用する場合"
   ]
  },
  {
   "cell_type": "code",
   "execution_count": 31,
   "metadata": {},
   "outputs": [
    {
     "data": {
      "image/png": "[encoded data removed]",
      "text/plain": [
       "<Figure size 1080x576 with 1 Axes>"
      ]
     },
     "metadata": {},
     "output_type": "display_data"
    },
    {
     "name": "stdout",
     "output_type": "stream",
     "text": [
      "      Jan   Feb   Mar   Apr   May   Jun   Jly  Aug   Sep   Otc   Nov   Dec\n",
      "暖房   3866  3515  2936   916     0     0     0    0     0     0  1113  3101\n",
      "冷房      0     0     0     0     0     0     0    0     0     0     0     0\n",
      "給湯      0     0     0     0     0     0     0    0     0     0     0     0\n",
      "換気      0     0     0     0     0     0     0    0     0     0     0     0\n",
      "照明      0     0     0     0     0     0     0    0     0     0     0     0\n",
      "家電      0     0     0     0     0     0     0    0     0     0     0     0\n",
      "調理   1203  1091  1203  1133  1371  1171  1083  979  1076  1345  1161  1175\n",
      "分解前  5070  4607  4140  2050  1371  1171  1083  979  1076  1345  2275  4277\n"
     ]
    }
   ],
   "source": [
    "analysis_and_plot({\n",
    "    'general' : {\n",
    "        'number_of_people' : 4,\n",
    "        'main_habitable_room_floor_area' : 29.81,\n",
    "        'other_habitable_room_floor_area' : 54.34,\n",
    "        'total_floor_area' : 120.08,\n",
    "    },\n",
    "    'consumption' : [5070, 4607, 4140, 2050, 1371, 1171, 1083, 979, 1076, 1345, 2275, 4277],\n",
    "    'heating' : {\n",
    "        'use' : [True, True, True, True, False, False, False, False, False, False, True, True]\n",
    "    },\n",
    "    'cooling' : {\n",
    "        'use' : [False, False, False, False, False, False, False, False, False, False, False, False]\n",
    "    },\n",
    "    'ventilation' : { 'use' : False, 'coeff' : 1.0 },\n",
    "    'hot_water_supply' : { 'use' : False, 'coeff' : 1.0 },\n",
    "    'lighting' : { 'use' : False, 'coeff' : 1.0 },\n",
    "    'electric_appliance' : { 'use' : False, 'coeff' : 1.0 },\n",
    "    'cooking' : { 'use' : True, 'coeff' : 1.0 }\n",
    "})"
   ]
  },
  {
   "cell_type": "markdown",
   "metadata": {},
   "source": [
    "暖房・給湯に石油を使用する場合"
   ]
  },
  {
   "cell_type": "code",
   "execution_count": 32,
   "metadata": {},
   "outputs": [
    {
     "data": {
      "image/png": "[encoded data removed]",
      "text/plain": [
       "<Figure size 1080x576 with 1 Axes>"
      ]
     },
     "metadata": {},
     "output_type": "display_data"
    },
    {
     "name": "stdout",
     "output_type": "stream",
     "text": [
      "      Jan   Feb   Mar   Apr   May  Jun  Jly  Aug  Sep   Otc   Nov   Dec\n",
      "暖房   3266  2963  2396   577     0    0    0    0    0     0   752  2603\n",
      "冷房      0     0     0     0     0    0    0    0    0     0     0     0\n",
      "給湯   1471  1344  1410  1151  1058  849  751  645  765  1023  1201  1351\n",
      "換気      0     0     0     0     0    0    0    0    0     0     0     0\n",
      "照明      0     0     0     0     0    0    0    0    0     0     0     0\n",
      "家電      0     0     0     0     0    0    0    0    0     0     0     0\n",
      "調理      0     0     0     0     0    0    0    0    0     0     0     0\n",
      "分解前  4738  4308  3807  1729  1058  849  751  645  765  1023  1954  3955\n"
     ]
    }
   ],
   "source": [
    "analysis_and_plot({\n",
    "    'general' : {\n",
    "        'number_of_people' : 4,\n",
    "        'main_habitable_room_floor_area' : 29.81,\n",
    "        'other_habitable_room_floor_area' : 54.34,\n",
    "        'total_floor_area' : 120.08,\n",
    "    },\n",
    "    'consumption' : [4738, 4308, 3807, 1729, 1058, 849, 751, 645, 765, 1023, 1954, 3955],\n",
    "    'heating' : {\n",
    "        'use' : [True, True, True, True, False, False, False, False, False, False, True, True]\n",
    "    },\n",
    "    'cooling' : {\n",
    "        'use' : [False, False, False, False, False, False, False, False, False, False, False, False]\n",
    "    },\n",
    "    'ventilation' : { 'use' : False, 'coeff' : 1.0 },\n",
    "    'hot_water_supply' : { 'use' : True, 'coeff' : 1.0 },\n",
    "    'lighting' : { 'use' : False, 'coeff' : 1.0 },\n",
    "    'electric_appliance' : { 'use' : False, 'coeff' : 1.0 },\n",
    "    'cooking' : { 'use' : False, 'coeff' : 1.0 }\n",
    "})"
   ]
  },
  {
   "cell_type": "code",
   "execution_count": 33,
   "metadata": {},
   "outputs": [
    {
     "data": {
      "image/png": "[encoded data removed]",
      "text/plain": [
       "<Figure size 1080x576 with 1 Axes>"
      ]
     },
     "metadata": {},
     "output_type": "display_data"
    },
    {
     "name": "stdout",
     "output_type": "stream",
     "text": [
      "      Jan   Feb   Mar   Apr   May  Jun  Jly  Aug  Sep   Otc   Nov   Dec\n",
      "暖房      0     0     0     0     0    0    0    0    0     0     0     0\n",
      "冷房      0     0     0     0     0    0    0    0    0     0     0     0\n",
      "給湯   4738  4308  3807  1729  1058  849  751  645  765  1023  1954  3955\n",
      "換気      0     0     0     0     0    0    0    0    0     0     0     0\n",
      "照明      0     0     0     0     0    0    0    0    0     0     0     0\n",
      "家電      0     0     0     0     0    0    0    0    0     0     0     0\n",
      "調理      0     0     0     0     0    0    0    0    0     0     0     0\n",
      "分解前  4738  4308  3807  1729  1058  849  751  645  765  1023  1954  3955\n"
     ]
    }
   ],
   "source": [
    "analysis_and_plot({\n",
    "    'general' : {\n",
    "        'number_of_people' : 4,\n",
    "        'main_habitable_room_floor_area' : 29.81,\n",
    "        'other_habitable_room_floor_area' : 54.34,\n",
    "        'total_floor_area' : 120.08,\n",
    "    },\n",
    "    'consumption' : [4738, 4308, 3807, 1729, 1058, 849, 751, 645, 765, 1023, 1954, 3955],\n",
    "    'heating' : {\n",
    "        'use' : [False, False, False, False, False, False, False, False, False, False, False, False]\n",
    "    },\n",
    "    'cooling' : {\n",
    "        'use' : [False, False, False, False, False, False, False, False, False, False, False, False]\n",
    "    },\n",
    "    'ventilation' : { 'use' : False, 'coeff' : 1.0 },\n",
    "    'hot_water_supply' : { 'use' : True, 'coeff' : 1.0 },\n",
    "    'lighting' : { 'use' : False, 'coeff' : 1.0 },\n",
    "    'electric_appliance' : { 'use' : False, 'coeff' : 1.0 },\n",
    "    'cooking' : { 'use' : False, 'coeff' : 1.0 }\n",
    "})"
   ]
  },
  {
   "cell_type": "code",
   "execution_count": null,
   "metadata": {},
   "outputs": [],
   "source": []
  }
 ],
 "metadata": {
  "kernelspec": {
   "display_name": "Python 3",
   "language": "python",
   "name": "python3"
  },
  "language_info": {
   "codemirror_mode": {
    "name": "ipython",
    "version": 3
   },
   "file_extension": ".py",
   "mimetype": "text/x-python",
   "name": "python",
   "nbconvert_exporter": "python",
   "pygments_lexer": "ipython3",
   "version": "3.6.5"
  }
 },
 "nbformat": 4,
 "nbformat_minor": 2
}
