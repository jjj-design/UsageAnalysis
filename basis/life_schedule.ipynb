{
 "cells": [
  {
   "cell_type": "code",
   "execution_count": 1,
   "metadata": {
    "collapsed": false
   },
   "outputs": [],
   "source": [
    "from enum import Enum\n",
    "from collections import namedtuple\n",
    "import collections"
   ]
  },
  {
   "cell_type": "markdown",
   "metadata": {},
   "source": [
    "# Life Schedule / 生活スケジュール"
   ]
  },
  {
   "cell_type": "markdown",
   "metadata": {},
   "source": [
    "## 1. Introduction"
   ]
  },
  {
   "cell_type": "markdown",
   "metadata": {},
   "source": [
    "This calculation depends on the specification of \"Chapter XI Others III Life Schedule\" in BRI."
   ]
  },
  {
   "cell_type": "markdown",
   "metadata": {},
   "source": [
    "## 2. Type of schedule"
   ]
  },
  {
   "cell_type": "markdown",
   "metadata": {},
   "source": [
    "### 1) Heating and Coolind\n",
    "The type of schedule for heating and cooling consists of \"Weekday\" and \"Holiday\"."
   ]
  },
  {
   "cell_type": "code",
   "execution_count": 3,
   "metadata": {
    "collapsed": true
   },
   "outputs": [],
   "source": [
    "class SKD_HC(Enum):\n",
    "    W = 'Weekday'\n",
    "    H = 'Holiday'"
   ]
  },
  {
   "cell_type": "markdown",
   "metadata": {},
   "source": [
    "### 2) Ventilation\n",
    "The type of schedule for ventilation consists of \"Weekday\", \"Holiday in house\" and \"Holiday in absence\"."
   ]
  },
  {
   "cell_type": "code",
   "execution_count": 4,
   "metadata": {
    "collapsed": true
   },
   "outputs": [],
   "source": [
    "class SKD_V(Enum):\n",
    "    W  = 'Weekday'\n",
    "    HH = 'Holiday in House'\n",
    "    HA = 'Holiday in Absence'"
   ]
  },
  {
   "cell_type": "markdown",
   "metadata": {},
   "source": [
    "### 3) Hot Water Supply\n",
    "The type of schedule for hot water supply consists of \"Weekday with large use\", \"Weekday with middle use\", \"Weekday with small use\", \"Holiday in house with large use\", \"Holiday in house with small use\" and \"Holiday in absence\"."
   ]
  },
  {
   "cell_type": "code",
   "execution_count": 5,
   "metadata": {
    "collapsed": true
   },
   "outputs": [],
   "source": [
    "class SKD_W(Enum):\n",
    "    W_L  = 'Weekday with Large use'\n",
    "    W_M  = 'Weekday with Middle use'\n",
    "    W_S  = 'Weekday with Small use'\n",
    "    HH_L = 'Holiday in House with Large use'\n",
    "    HH_S = 'Holiday in House with Small use'\n",
    "    HA   = 'Holiday in Absence'"
   ]
  },
  {
   "cell_type": "markdown",
   "metadata": {},
   "source": [
    "### 4) Lighting\n",
    "The type of schedule for lighting consists of \"Weekday\", \"Holiday in house\" and \"Holiday in absence\"."
   ]
  },
  {
   "cell_type": "code",
   "execution_count": 6,
   "metadata": {
    "collapsed": true
   },
   "outputs": [],
   "source": [
    "class SKD_L(Enum):\n",
    "    W  = 'Weekday'\n",
    "    HH = 'Holiday in House'\n",
    "    HA = 'Holiday in Absence'"
   ]
  },
  {
   "cell_type": "markdown",
   "metadata": {},
   "source": [
    "### 5) Use of Electric Appliances\n",
    "The type of schedule for use of electric appliances consists of \"Weekday\", \"Holiday in house\" and \"Holiday in absence\"."
   ]
  },
  {
   "cell_type": "code",
   "execution_count": 7,
   "metadata": {
    "collapsed": true
   },
   "outputs": [],
   "source": [
    "class SKD_EA(Enum):\n",
    "    W  = 'Weekday'\n",
    "    HH = 'Holiday in House'\n",
    "    HA = 'Holiday in Absence'"
   ]
  },
  {
   "cell_type": "markdown",
   "metadata": {},
   "source": [
    "### 6) Cooking\n",
    "The type of schedule for cooking consists of \"Weekday\", \"Holiday in house\" and \"Holiday in absence\"."
   ]
  },
  {
   "cell_type": "code",
   "execution_count": 8,
   "metadata": {
    "collapsed": true
   },
   "outputs": [],
   "source": [
    "class SKD_CK(Enum):\n",
    "    W  = 'Weekday'\n",
    "    HH = 'Holiday in House'\n",
    "    HA = 'Holiday in Absence'"
   ]
  },
  {
   "cell_type": "markdown",
   "metadata": {},
   "source": [
    "## 3. Functions"
   ]
  },
  {
   "cell_type": "markdown",
   "metadata": {},
   "source": [
    "### 3.1 Annual Schedule"
   ]
  },
  {
   "cell_type": "markdown",
   "metadata": {},
   "source": [
    "Annual schedule is defined in the csv file named \"住宅02-11-03_その他_生活スケジュール_生活スケジュール（データ）_131216.csv\".  \n",
    "Febrary has 28 days and the year has 365 days, not leap year."
   ]
  },
  {
   "cell_type": "code",
   "execution_count": 9,
   "metadata": {
    "collapsed": false
   },
   "outputs": [],
   "source": [
    "class AnnualSchedule:\n",
    "    \n",
    "    SKD = namedtuple('Schedule', 'HC, V, W, L, EA, CK')\n",
    "    \n",
    "    schedule = {\n",
    "        '1/1'  : SKD(SKD_HC.H, SKD_V.HH, SKD_W.HH_L,SKD_L.HH, SKD_EA.HH, SKD_CK.HH ),\n",
    "        '1/2'  : SKD(SKD_HC.W, SKD_V.W,  SKD_W.W_M, SKD_L.W,  SKD_EA.W,  SKD_CK.W  ),\n",
    "        '1/3'  : SKD(SKD_HC.W, SKD_V.W,  SKD_W.W_S, SKD_L.W,  SKD_EA.W,  SKD_CK.W  ),\n",
    "        '1/4'  : SKD(SKD_HC.W, SKD_V.W,  SKD_W.W_M, SKD_L.W,  SKD_EA.W,  SKD_CK.W  ),\n",
    "        '1/5'  : SKD(SKD_HC.W, SKD_V.W,  SKD_W.W_M, SKD_L.W,  SKD_EA.W,  SKD_CK.W  ),\n",
    "        '1/6'  : SKD(SKD_HC.W, SKD_V.W,  SKD_W.W_M, SKD_L.W,  SKD_EA.W,  SKD_CK.W  ),\n",
    "        '1/7'  : SKD(SKD_HC.H, SKD_V.HH, SKD_W.HH_S,SKD_L.HH, SKD_EA.HH, SKD_CK.HH ),\n",
    "        '1/8'  : SKD(SKD_HC.H, SKD_V.HA, SKD_W.HA,  SKD_L.HA, SKD_EA.HA, SKD_CK.HA ),\n",
    "        '1/9'  : SKD(SKD_HC.W, SKD_V.W,  SKD_W.W_M, SKD_L.W,  SKD_EA.W,  SKD_CK.W  ),\n",
    "        '1/10' : SKD(SKD_HC.W, SKD_V.W,  SKD_W.W_S, SKD_L.W,  SKD_EA.W,  SKD_CK.W  ),\n",
    "        '1/11' : SKD(SKD_HC.W, SKD_V.W,  SKD_W.W_L, SKD_L.W,  SKD_EA.W,  SKD_CK.W  ),\n",
    "        '1/12' : SKD(SKD_HC.W, SKD_V.W,  SKD_W.W_S, SKD_L.W,  SKD_EA.W,  SKD_CK.W  ),\n",
    "        '1/13' : SKD(SKD_HC.W, SKD_V.W,  SKD_W.W_M, SKD_L.W,  SKD_EA.W,  SKD_CK.W  ),\n",
    "        '1/14' : SKD(SKD_HC.H, SKD_V.HH, SKD_W.HH_S,SKD_L.HH, SKD_EA.HH, SKD_CK.HH ),\n",
    "        '1/15' : SKD(SKD_HC.H, SKD_V.HH, SKD_W.HH_L,SKD_L.HH, SKD_EA.HH, SKD_CK.HH ),\n",
    "        '1/16' : SKD(SKD_HC.W, SKD_V.W,  SKD_W.W_M, SKD_L.W,  SKD_EA.W,  SKD_CK.W  ),\n",
    "        '1/17' : SKD(SKD_HC.W, SKD_V.W,  SKD_W.W_S, SKD_L.W,  SKD_EA.W,  SKD_CK.W  ),\n",
    "        '1/18' : SKD(SKD_HC.W, SKD_V.W,  SKD_W.W_M, SKD_L.W,  SKD_EA.W,  SKD_CK.W  ),\n",
    "        '1/19' : SKD(SKD_HC.W, SKD_V.W,  SKD_W.W_M, SKD_L.W,  SKD_EA.W,  SKD_CK.W  ),\n",
    "        '1/20' : SKD(SKD_HC.W, SKD_V.W,  SKD_W.W_M, SKD_L.W,  SKD_EA.W,  SKD_CK.W  ),\n",
    "        '1/21' : SKD(SKD_HC.H, SKD_V.HH, SKD_W.HH_S,SKD_L.HH, SKD_EA.HH, SKD_CK.HH ),\n",
    "        '1/22' : SKD(SKD_HC.H, SKD_V.HA, SKD_W.HA,  SKD_L.HA, SKD_EA.HA, SKD_CK.HA ),\n",
    "        '1/23' : SKD(SKD_HC.W, SKD_V.W,  SKD_W.W_M, SKD_L.W,  SKD_EA.W,  SKD_CK.W  ),\n",
    "        '1/24' : SKD(SKD_HC.W, SKD_V.W,  SKD_W.W_S, SKD_L.W,  SKD_EA.W,  SKD_CK.W  ),\n",
    "        '1/25' : SKD(SKD_HC.W, SKD_V.W,  SKD_W.W_L, SKD_L.W,  SKD_EA.W,  SKD_CK.W  ),\n",
    "        '1/26' : SKD(SKD_HC.W, SKD_V.W,  SKD_W.W_S, SKD_L.W,  SKD_EA.W,  SKD_CK.W  ),\n",
    "        '1/27' : SKD(SKD_HC.W, SKD_V.W,  SKD_W.W_M, SKD_L.W,  SKD_EA.W,  SKD_CK.W  ),\n",
    "        '1/28' : SKD(SKD_HC.H, SKD_V.HH, SKD_W.HH_S,SKD_L.HH, SKD_EA.HH, SKD_CK.HH ),\n",
    "        '1/29' : SKD(SKD_HC.H, SKD_V.HH, SKD_W.HH_L,SKD_L.HH, SKD_EA.HH, SKD_CK.HH ),\n",
    "        '1/30' : SKD(SKD_HC.W, SKD_V.W,  SKD_W.W_M, SKD_L.W,  SKD_EA.W,  SKD_CK.W  ),\n",
    "        '1/31' : SKD(SKD_HC.W, SKD_V.W,  SKD_W.W_S, SKD_L.W,  SKD_EA.W,  SKD_CK.W  ),\n",
    "        '2/1'  : SKD(SKD_HC.W, SKD_V.W,  SKD_W.W_M, SKD_L.W,  SKD_EA.W,  SKD_CK.W  ),\n",
    "        '2/2'  : SKD(SKD_HC.W, SKD_V.W,  SKD_W.W_M, SKD_L.W,  SKD_EA.W,  SKD_CK.W  ),\n",
    "        '2/3'  : SKD(SKD_HC.W, SKD_V.W,  SKD_W.W_M, SKD_L.W,  SKD_EA.W,  SKD_CK.W  ),\n",
    "        '2/4'  : SKD(SKD_HC.H, SKD_V.HH, SKD_W.HH_S,SKD_L.HH, SKD_EA.HH, SKD_CK.HH ),\n",
    "        '2/5'  : SKD(SKD_HC.H, SKD_V.HA, SKD_W.HA,  SKD_L.HA, SKD_EA.HA, SKD_CK.HA ),\n",
    "        '2/6'  : SKD(SKD_HC.W, SKD_V.W,  SKD_W.W_M, SKD_L.W,  SKD_EA.W,  SKD_CK.W  ),\n",
    "        '2/7'  : SKD(SKD_HC.W, SKD_V.W,  SKD_W.W_S, SKD_L.W,  SKD_EA.W,  SKD_CK.W  ),\n",
    "        '2/8'  : SKD(SKD_HC.W, SKD_V.W,  SKD_W.W_L, SKD_L.W,  SKD_EA.W,  SKD_CK.W  ),\n",
    "        '2/9'  : SKD(SKD_HC.W, SKD_V.W,  SKD_W.W_S, SKD_L.W,  SKD_EA.W,  SKD_CK.W  ),\n",
    "        '2/10' : SKD(SKD_HC.W, SKD_V.W,  SKD_W.W_M, SKD_L.W,  SKD_EA.W,  SKD_CK.W  ),\n",
    "        '2/11' : SKD(SKD_HC.H, SKD_V.HH, SKD_W.HH_S,SKD_L.HH, SKD_EA.HH, SKD_CK.HH ),\n",
    "        '2/12' : SKD(SKD_HC.H, SKD_V.HH, SKD_W.HH_L,SKD_L.HH, SKD_EA.HH, SKD_CK.HH ),\n",
    "        '2/13' : SKD(SKD_HC.W, SKD_V.W,  SKD_W.W_M, SKD_L.W,  SKD_EA.W,  SKD_CK.W  ),\n",
    "        '2/14' : SKD(SKD_HC.W, SKD_V.W,  SKD_W.W_S, SKD_L.W,  SKD_EA.W,  SKD_CK.W  ),\n",
    "        '2/15' : SKD(SKD_HC.W, SKD_V.W,  SKD_W.W_M, SKD_L.W,  SKD_EA.W,  SKD_CK.W  ),\n",
    "        '2/16' : SKD(SKD_HC.W, SKD_V.W,  SKD_W.W_M, SKD_L.W,  SKD_EA.W,  SKD_CK.W  ),\n",
    "        '2/17' : SKD(SKD_HC.W, SKD_V.W,  SKD_W.W_M, SKD_L.W,  SKD_EA.W,  SKD_CK.W  ),\n",
    "        '2/18' : SKD(SKD_HC.H, SKD_V.HH, SKD_W.HH_S,SKD_L.HH, SKD_EA.HH, SKD_CK.HH ),\n",
    "        '2/19' : SKD(SKD_HC.H, SKD_V.HA, SKD_W.HA,  SKD_L.HA, SKD_EA.HA, SKD_CK.HA ),\n",
    "        '2/20' : SKD(SKD_HC.W, SKD_V.W,  SKD_W.W_M, SKD_L.W,  SKD_EA.W,  SKD_CK.W  ),\n",
    "        '2/21' : SKD(SKD_HC.W, SKD_V.W,  SKD_W.W_S, SKD_L.W,  SKD_EA.W,  SKD_CK.W  ),\n",
    "        '2/22' : SKD(SKD_HC.W, SKD_V.W,  SKD_W.W_L, SKD_L.W,  SKD_EA.W,  SKD_CK.W  ),\n",
    "        '2/23' : SKD(SKD_HC.W, SKD_V.W,  SKD_W.W_S, SKD_L.W,  SKD_EA.W,  SKD_CK.W  ),\n",
    "        '2/24' : SKD(SKD_HC.W, SKD_V.W,  SKD_W.W_M, SKD_L.W,  SKD_EA.W,  SKD_CK.W  ),\n",
    "        '2/25' : SKD(SKD_HC.H, SKD_V.HH, SKD_W.HH_S,SKD_L.HH, SKD_EA.HH, SKD_CK.HH ),\n",
    "        '2/26' : SKD(SKD_HC.H, SKD_V.HH, SKD_W.HH_L,SKD_L.HH, SKD_EA.HH, SKD_CK.HH ),\n",
    "        '2/27' : SKD(SKD_HC.W, SKD_V.W,  SKD_W.W_M, SKD_L.W,  SKD_EA.W,  SKD_CK.W  ),\n",
    "        '2/28' : SKD(SKD_HC.W, SKD_V.W,  SKD_W.W_S, SKD_L.W,  SKD_EA.W,  SKD_CK.W  ),\n",
    "        '3/1'  : SKD(SKD_HC.W, SKD_V.W,  SKD_W.W_M, SKD_L.W,  SKD_EA.W,  SKD_CK.W  ),\n",
    "        '3/2'  : SKD(SKD_HC.W, SKD_V.W,  SKD_W.W_M, SKD_L.W,  SKD_EA.W,  SKD_CK.W  ),\n",
    "        '3/3'  : SKD(SKD_HC.W, SKD_V.W,  SKD_W.W_M, SKD_L.W,  SKD_EA.W,  SKD_CK.W  ),\n",
    "        '3/4'  : SKD(SKD_HC.H, SKD_V.HH, SKD_W.HH_S,SKD_L.HH, SKD_EA.HH, SKD_CK.HH ),\n",
    "        '3/5'  : SKD(SKD_HC.H, SKD_V.HA, SKD_W.HA,  SKD_L.HA, SKD_EA.HA, SKD_CK.HA ),\n",
    "        '3/6'  : SKD(SKD_HC.W, SKD_V.W,  SKD_W.W_M, SKD_L.W,  SKD_EA.W,  SKD_CK.W  ),\n",
    "        '3/7'  : SKD(SKD_HC.W, SKD_V.W,  SKD_W.W_S, SKD_L.W,  SKD_EA.W,  SKD_CK.W  ),\n",
    "        '3/8'  : SKD(SKD_HC.W, SKD_V.W,  SKD_W.W_L, SKD_L.W,  SKD_EA.W,  SKD_CK.W  ),\n",
    "        '3/9'  : SKD(SKD_HC.W, SKD_V.W,  SKD_W.W_S, SKD_L.W,  SKD_EA.W,  SKD_CK.W  ),\n",
    "        '3/10' : SKD(SKD_HC.W, SKD_V.W,  SKD_W.W_M, SKD_L.W,  SKD_EA.W,  SKD_CK.W  ),\n",
    "        '3/11' : SKD(SKD_HC.H, SKD_V.HH, SKD_W.HH_S,SKD_L.HH, SKD_EA.HH, SKD_CK.HH ),\n",
    "        '3/12' : SKD(SKD_HC.H, SKD_V.HH, SKD_W.HH_L,SKD_L.HH, SKD_EA.HH, SKD_CK.HH ),\n",
    "        '3/13' : SKD(SKD_HC.W, SKD_V.W,  SKD_W.W_M, SKD_L.W,  SKD_EA.W,  SKD_CK.W  ),\n",
    "        '3/14' : SKD(SKD_HC.W, SKD_V.W,  SKD_W.W_S, SKD_L.W,  SKD_EA.W,  SKD_CK.W  ),\n",
    "        '3/15' : SKD(SKD_HC.W, SKD_V.W,  SKD_W.W_M, SKD_L.W,  SKD_EA.W,  SKD_CK.W  ),\n",
    "        '3/16' : SKD(SKD_HC.W, SKD_V.W,  SKD_W.W_M, SKD_L.W,  SKD_EA.W,  SKD_CK.W  ),\n",
    "        '3/17' : SKD(SKD_HC.W, SKD_V.W,  SKD_W.W_M, SKD_L.W,  SKD_EA.W,  SKD_CK.W  ),\n",
    "        '3/18' : SKD(SKD_HC.H, SKD_V.HH, SKD_W.HH_S,SKD_L.HH, SKD_EA.HH, SKD_CK.HH ),\n",
    "        '3/19' : SKD(SKD_HC.H, SKD_V.HA, SKD_W.HA,  SKD_L.HA, SKD_EA.HA, SKD_CK.HA ),\n",
    "        '3/20' : SKD(SKD_HC.W, SKD_V.W,  SKD_W.W_M, SKD_L.W,  SKD_EA.W,  SKD_CK.W  ),\n",
    "        '3/21' : SKD(SKD_HC.H, SKD_V.HH, SKD_W.HH_S,SKD_L.HH, SKD_EA.HH, SKD_CK.HH ),\n",
    "        '3/22' : SKD(SKD_HC.W, SKD_V.W,  SKD_W.W_L, SKD_L.W,  SKD_EA.W,  SKD_CK.W  ),\n",
    "        '3/23' : SKD(SKD_HC.W, SKD_V.W,  SKD_W.W_S, SKD_L.W,  SKD_EA.W,  SKD_CK.W  ),\n",
    "        '3/24' : SKD(SKD_HC.W, SKD_V.W,  SKD_W.W_M, SKD_L.W,  SKD_EA.W,  SKD_CK.W  ),\n",
    "        '3/25' : SKD(SKD_HC.H, SKD_V.HH, SKD_W.HH_S,SKD_L.HH, SKD_EA.HH, SKD_CK.HH ),\n",
    "        '3/26' : SKD(SKD_HC.H, SKD_V.HH, SKD_W.HH_L,SKD_L.HH, SKD_EA.HH, SKD_CK.HH ),\n",
    "        '3/27' : SKD(SKD_HC.W, SKD_V.W,  SKD_W.W_M, SKD_L.W,  SKD_EA.W,  SKD_CK.W  ),\n",
    "        '3/28' : SKD(SKD_HC.W, SKD_V.W,  SKD_W.W_S, SKD_L.W,  SKD_EA.W,  SKD_CK.W  ),\n",
    "        '3/29' : SKD(SKD_HC.W, SKD_V.W,  SKD_W.W_M, SKD_L.W,  SKD_EA.W,  SKD_CK.W  ),\n",
    "        '3/30' : SKD(SKD_HC.W, SKD_V.W,  SKD_W.W_M, SKD_L.W,  SKD_EA.W,  SKD_CK.W  ),\n",
    "        '3/31' : SKD(SKD_HC.W, SKD_V.W,  SKD_W.W_M, SKD_L.W,  SKD_EA.W,  SKD_CK.W  ),\n",
    "        '4/1'  : SKD(SKD_HC.H, SKD_V.HH, SKD_W.HH_S,SKD_L.HH, SKD_EA.HH, SKD_CK.HH ),\n",
    "        '4/2'  : SKD(SKD_HC.H, SKD_V.HA, SKD_W.HA,  SKD_L.HA, SKD_EA.HA, SKD_CK.HA ),\n",
    "        '4/3'  : SKD(SKD_HC.W, SKD_V.W,  SKD_W.W_M, SKD_L.W,  SKD_EA.W,  SKD_CK.W  ),\n",
    "        '4/4'  : SKD(SKD_HC.W, SKD_V.W,  SKD_W.W_S, SKD_L.W,  SKD_EA.W,  SKD_CK.W  ),\n",
    "        '4/5'  : SKD(SKD_HC.W, SKD_V.W,  SKD_W.W_L, SKD_L.W,  SKD_EA.W,  SKD_CK.W  ),\n",
    "        '4/6'  : SKD(SKD_HC.W, SKD_V.W,  SKD_W.W_S, SKD_L.W,  SKD_EA.W,  SKD_CK.W  ),\n",
    "        '4/7'  : SKD(SKD_HC.W, SKD_V.W,  SKD_W.W_M, SKD_L.W,  SKD_EA.W,  SKD_CK.W  ),\n",
    "        '4/8'  : SKD(SKD_HC.H, SKD_V.HH, SKD_W.HH_S,SKD_L.HH, SKD_EA.HH, SKD_CK.HH ),\n",
    "        '4/9'  : SKD(SKD_HC.H, SKD_V.HH, SKD_W.HH_L,SKD_L.HH, SKD_EA.HH, SKD_CK.HH ),\n",
    "        '4/10' : SKD(SKD_HC.W, SKD_V.W,  SKD_W.W_M, SKD_L.W,  SKD_EA.W,  SKD_CK.W  ),\n",
    "        '4/11' : SKD(SKD_HC.W, SKD_V.W,  SKD_W.W_S, SKD_L.W,  SKD_EA.W,  SKD_CK.W  ),\n",
    "        '4/12' : SKD(SKD_HC.W, SKD_V.W,  SKD_W.W_M, SKD_L.W,  SKD_EA.W,  SKD_CK.W  ),\n",
    "        '4/13' : SKD(SKD_HC.W, SKD_V.W,  SKD_W.W_M, SKD_L.W,  SKD_EA.W,  SKD_CK.W  ),\n",
    "        '4/14' : SKD(SKD_HC.W, SKD_V.W,  SKD_W.W_M, SKD_L.W,  SKD_EA.W,  SKD_CK.W  ),\n",
    "        '4/15' : SKD(SKD_HC.H, SKD_V.HH, SKD_W.HH_S,SKD_L.HH, SKD_EA.HH, SKD_CK.HH ),\n",
    "        '4/16' : SKD(SKD_HC.H, SKD_V.HA, SKD_W.HA,  SKD_L.HA, SKD_EA.HA, SKD_CK.HA ),\n",
    "        '4/17' : SKD(SKD_HC.W, SKD_V.W,  SKD_W.W_M, SKD_L.W,  SKD_EA.W,  SKD_CK.W  ),\n",
    "        '4/18' : SKD(SKD_HC.W, SKD_V.W,  SKD_W.W_S, SKD_L.W,  SKD_EA.W,  SKD_CK.W  ),\n",
    "        '4/19' : SKD(SKD_HC.W, SKD_V.W,  SKD_W.W_L, SKD_L.W,  SKD_EA.W,  SKD_CK.W  ),\n",
    "        '4/20' : SKD(SKD_HC.W, SKD_V.W,  SKD_W.W_S, SKD_L.W,  SKD_EA.W,  SKD_CK.W  ),\n",
    "        '4/21' : SKD(SKD_HC.W, SKD_V.W,  SKD_W.W_M, SKD_L.W,  SKD_EA.W,  SKD_CK.W  ),\n",
    "        '4/22' : SKD(SKD_HC.H, SKD_V.HH, SKD_W.HH_S,SKD_L.HH, SKD_EA.HH, SKD_CK.HH ),\n",
    "        '4/23' : SKD(SKD_HC.H, SKD_V.HH, SKD_W.HH_L,SKD_L.HH, SKD_EA.HH, SKD_CK.HH ),\n",
    "        '4/24' : SKD(SKD_HC.W, SKD_V.W,  SKD_W.W_M, SKD_L.W,  SKD_EA.W,  SKD_CK.W  ),\n",
    "        '4/25' : SKD(SKD_HC.W, SKD_V.W,  SKD_W.W_S, SKD_L.W,  SKD_EA.W,  SKD_CK.W  ),\n",
    "        '4/26' : SKD(SKD_HC.W, SKD_V.W,  SKD_W.W_M, SKD_L.W,  SKD_EA.W,  SKD_CK.W  ),\n",
    "        '4/27' : SKD(SKD_HC.W, SKD_V.W,  SKD_W.W_M, SKD_L.W,  SKD_EA.W,  SKD_CK.W  ),\n",
    "        '4/28' : SKD(SKD_HC.W, SKD_V.W,  SKD_W.W_M, SKD_L.W,  SKD_EA.W,  SKD_CK.W  ),\n",
    "        '4/29' : SKD(SKD_HC.H, SKD_V.HH, SKD_W.HH_S,SKD_L.HH, SKD_EA.HH, SKD_CK.HH ),\n",
    "        '4/30' : SKD(SKD_HC.H, SKD_V.HA, SKD_W.HA,  SKD_L.HA, SKD_EA.HA, SKD_CK.HA ),\n",
    "        '5/1'  : SKD(SKD_HC.W, SKD_V.W,  SKD_W.W_M, SKD_L.W,  SKD_EA.W,  SKD_CK.W  ),\n",
    "        '5/2'  : SKD(SKD_HC.W, SKD_V.W,  SKD_W.W_S, SKD_L.W,  SKD_EA.W,  SKD_CK.W  ),\n",
    "        '5/3'  : SKD(SKD_HC.H, SKD_V.HA, SKD_W.HA,  SKD_L.HA, SKD_EA.HA, SKD_CK.HA ),\n",
    "        '5/4'  : SKD(SKD_HC.H, SKD_V.HA, SKD_W.HA,  SKD_L.HA, SKD_EA.HA, SKD_CK.HA ),\n",
    "        '5/5'  : SKD(SKD_HC.H, SKD_V.HH, SKD_W.HH_S,SKD_L.HH, SKD_EA.HH, SKD_CK.HH ),\n",
    "        '5/6'  : SKD(SKD_HC.H, SKD_V.HH, SKD_W.HH_S,SKD_L.HH, SKD_EA.HH, SKD_CK.HH ),\n",
    "        '5/7'  : SKD(SKD_HC.H, SKD_V.HH, SKD_W.HH_L,SKD_L.HH, SKD_EA.HH, SKD_CK.HH ),\n",
    "        '5/8'  : SKD(SKD_HC.W, SKD_V.W,  SKD_W.W_M, SKD_L.W,  SKD_EA.W,  SKD_CK.W  ),\n",
    "        '5/9'  : SKD(SKD_HC.W, SKD_V.W,  SKD_W.W_S, SKD_L.W,  SKD_EA.W,  SKD_CK.W  ),\n",
    "        '5/10' : SKD(SKD_HC.W, SKD_V.W,  SKD_W.W_M, SKD_L.W,  SKD_EA.W,  SKD_CK.W  ),\n",
    "        '5/11' : SKD(SKD_HC.W, SKD_V.W,  SKD_W.W_M, SKD_L.W,  SKD_EA.W,  SKD_CK.W  ),\n",
    "        '5/12' : SKD(SKD_HC.W, SKD_V.W,  SKD_W.W_M, SKD_L.W,  SKD_EA.W,  SKD_CK.W  ),\n",
    "        '5/13' : SKD(SKD_HC.H, SKD_V.HH, SKD_W.HH_S,SKD_L.HH, SKD_EA.HH, SKD_CK.HH ),\n",
    "        '5/14' : SKD(SKD_HC.H, SKD_V.HA, SKD_W.HA,  SKD_L.HA, SKD_EA.HA, SKD_CK.HA ),\n",
    "        '5/15' : SKD(SKD_HC.W, SKD_V.W,  SKD_W.W_M, SKD_L.W,  SKD_EA.W,  SKD_CK.W  ),\n",
    "        '5/16' : SKD(SKD_HC.W, SKD_V.W,  SKD_W.W_S, SKD_L.W,  SKD_EA.W,  SKD_CK.W  ),\n",
    "        '5/17' : SKD(SKD_HC.W, SKD_V.W,  SKD_W.W_L, SKD_L.W,  SKD_EA.W,  SKD_CK.W  ),\n",
    "        '5/18' : SKD(SKD_HC.W, SKD_V.W,  SKD_W.W_S, SKD_L.W,  SKD_EA.W,  SKD_CK.W  ),\n",
    "        '5/19' : SKD(SKD_HC.W, SKD_V.W,  SKD_W.W_M, SKD_L.W,  SKD_EA.W,  SKD_CK.W  ),\n",
    "        '5/20' : SKD(SKD_HC.H, SKD_V.HH, SKD_W.HH_S,SKD_L.HH, SKD_EA.HH, SKD_CK.HH ),\n",
    "        '5/21' : SKD(SKD_HC.H, SKD_V.HH, SKD_W.HH_L,SKD_L.HH, SKD_EA.HH, SKD_CK.HH ),\n",
    "        '5/22' : SKD(SKD_HC.W, SKD_V.W,  SKD_W.W_M, SKD_L.W,  SKD_EA.W,  SKD_CK.W  ),\n",
    "        '5/23' : SKD(SKD_HC.W, SKD_V.W,  SKD_W.W_S, SKD_L.W,  SKD_EA.W,  SKD_CK.W  ),\n",
    "        '5/24' : SKD(SKD_HC.W, SKD_V.W,  SKD_W.W_M, SKD_L.W,  SKD_EA.W,  SKD_CK.W  ),\n",
    "        '5/25' : SKD(SKD_HC.W, SKD_V.W,  SKD_W.W_M, SKD_L.W,  SKD_EA.W,  SKD_CK.W  ),\n",
    "        '5/26' : SKD(SKD_HC.W, SKD_V.W,  SKD_W.W_M, SKD_L.W,  SKD_EA.W,  SKD_CK.W  ),\n",
    "        '5/27' : SKD(SKD_HC.H, SKD_V.HH, SKD_W.HH_S,SKD_L.HH, SKD_EA.HH, SKD_CK.HH ),\n",
    "        '5/28' : SKD(SKD_HC.H, SKD_V.HA, SKD_W.HA,  SKD_L.HA, SKD_EA.HA, SKD_CK.HA ),\n",
    "        '5/29' : SKD(SKD_HC.W, SKD_V.W,  SKD_W.W_M, SKD_L.W,  SKD_EA.W,  SKD_CK.W  ),\n",
    "        '5/30' : SKD(SKD_HC.W, SKD_V.W,  SKD_W.W_S, SKD_L.W,  SKD_EA.W,  SKD_CK.W  ),\n",
    "        '5/31' : SKD(SKD_HC.W, SKD_V.W,  SKD_W.W_L, SKD_L.W,  SKD_EA.W,  SKD_CK.W  ),\n",
    "        '6/1'  : SKD(SKD_HC.W, SKD_V.W,  SKD_W.W_S, SKD_L.W,  SKD_EA.W,  SKD_CK.W  ),\n",
    "        '6/2'  : SKD(SKD_HC.W, SKD_V.W,  SKD_W.W_M, SKD_L.W,  SKD_EA.W,  SKD_CK.W  ),\n",
    "        '6/3'  : SKD(SKD_HC.H, SKD_V.HH, SKD_W.HH_S,SKD_L.HH, SKD_EA.HH, SKD_CK.HH ),\n",
    "        '6/4'  : SKD(SKD_HC.H, SKD_V.HH, SKD_W.HH_L,SKD_L.HH, SKD_EA.HH, SKD_CK.HH ),\n",
    "        '6/5'  : SKD(SKD_HC.W, SKD_V.W,  SKD_W.W_M, SKD_L.W,  SKD_EA.W,  SKD_CK.W  ),\n",
    "        '6/6'  : SKD(SKD_HC.W, SKD_V.W,  SKD_W.W_S, SKD_L.W,  SKD_EA.W,  SKD_CK.W  ),\n",
    "        '6/7'  : SKD(SKD_HC.W, SKD_V.W,  SKD_W.W_M, SKD_L.W,  SKD_EA.W,  SKD_CK.W  ),\n",
    "        '6/8'  : SKD(SKD_HC.W, SKD_V.W,  SKD_W.W_M, SKD_L.W,  SKD_EA.W,  SKD_CK.W  ),\n",
    "        '6/9'  : SKD(SKD_HC.W, SKD_V.W,  SKD_W.W_M, SKD_L.W,  SKD_EA.W,  SKD_CK.W  ),\n",
    "        '6/10' : SKD(SKD_HC.H, SKD_V.HH, SKD_W.HH_S,SKD_L.HH, SKD_EA.HH, SKD_CK.HH ),\n",
    "        '6/11' : SKD(SKD_HC.H, SKD_V.HA, SKD_W.HA,  SKD_L.HA, SKD_EA.HA, SKD_CK.HA ),\n",
    "        '6/12' : SKD(SKD_HC.W, SKD_V.W,  SKD_W.W_M, SKD_L.W,  SKD_EA.W,  SKD_CK.W  ),\n",
    "        '6/13' : SKD(SKD_HC.W, SKD_V.W,  SKD_W.W_S, SKD_L.W,  SKD_EA.W,  SKD_CK.W  ),\n",
    "        '6/14' : SKD(SKD_HC.W, SKD_V.W,  SKD_W.W_L, SKD_L.W,  SKD_EA.W,  SKD_CK.W  ),\n",
    "        '6/15' : SKD(SKD_HC.W, SKD_V.W,  SKD_W.W_S, SKD_L.W,  SKD_EA.W,  SKD_CK.W  ),\n",
    "        '6/16' : SKD(SKD_HC.W, SKD_V.W,  SKD_W.W_M, SKD_L.W,  SKD_EA.W,  SKD_CK.W  ),\n",
    "        '6/17' : SKD(SKD_HC.H, SKD_V.HH, SKD_W.HH_S,SKD_L.HH, SKD_EA.HH, SKD_CK.HH ),\n",
    "        '6/18' : SKD(SKD_HC.H, SKD_V.HH, SKD_W.HH_L,SKD_L.HH, SKD_EA.HH, SKD_CK.HH ),\n",
    "        '6/19' : SKD(SKD_HC.W, SKD_V.W,  SKD_W.W_M, SKD_L.W,  SKD_EA.W,  SKD_CK.W  ),\n",
    "        '6/20' : SKD(SKD_HC.W, SKD_V.W,  SKD_W.W_S, SKD_L.W,  SKD_EA.W,  SKD_CK.W  ),\n",
    "        '6/21' : SKD(SKD_HC.W, SKD_V.W,  SKD_W.W_M, SKD_L.W,  SKD_EA.W,  SKD_CK.W  ),\n",
    "        '6/22' : SKD(SKD_HC.W, SKD_V.W,  SKD_W.W_M, SKD_L.W,  SKD_EA.W,  SKD_CK.W  ),\n",
    "        '6/23' : SKD(SKD_HC.W, SKD_V.W,  SKD_W.W_M, SKD_L.W,  SKD_EA.W,  SKD_CK.W  ),\n",
    "        '6/24' : SKD(SKD_HC.H, SKD_V.HH, SKD_W.HH_S,SKD_L.HH, SKD_EA.HH, SKD_CK.HH ),\n",
    "        '6/25' : SKD(SKD_HC.H, SKD_V.HA, SKD_W.HA,  SKD_L.HA, SKD_EA.HA, SKD_CK.HA ),\n",
    "        '6/26' : SKD(SKD_HC.W, SKD_V.W,  SKD_W.W_M, SKD_L.W,  SKD_EA.W,  SKD_CK.W  ),\n",
    "        '6/27' : SKD(SKD_HC.W, SKD_V.W,  SKD_W.W_S, SKD_L.W,  SKD_EA.W,  SKD_CK.W  ),\n",
    "        '6/28' : SKD(SKD_HC.W, SKD_V.W,  SKD_W.W_L, SKD_L.W,  SKD_EA.W,  SKD_CK.W  ),\n",
    "        '6/29' : SKD(SKD_HC.W, SKD_V.W,  SKD_W.W_S, SKD_L.W,  SKD_EA.W,  SKD_CK.W  ),\n",
    "        '6/30' : SKD(SKD_HC.W, SKD_V.W,  SKD_W.W_M, SKD_L.W,  SKD_EA.W,  SKD_CK.W  ),\n",
    "        '7/1'  : SKD(SKD_HC.H, SKD_V.HH, SKD_W.HH_S,SKD_L.HH, SKD_EA.HH, SKD_CK.HH ),\n",
    "        '7/2'  : SKD(SKD_HC.H, SKD_V.HH, SKD_W.HH_L,SKD_L.HH, SKD_EA.HH, SKD_CK.HH ),\n",
    "        '7/3'  : SKD(SKD_HC.W, SKD_V.W,  SKD_W.W_M, SKD_L.W,  SKD_EA.W,  SKD_CK.W  ),\n",
    "        '7/4'  : SKD(SKD_HC.W, SKD_V.W,  SKD_W.W_S, SKD_L.W,  SKD_EA.W,  SKD_CK.W  ),\n",
    "        '7/5'  : SKD(SKD_HC.W, SKD_V.W,  SKD_W.W_M, SKD_L.W,  SKD_EA.W,  SKD_CK.W  ),\n",
    "        '7/6'  : SKD(SKD_HC.W, SKD_V.W,  SKD_W.W_M, SKD_L.W,  SKD_EA.W,  SKD_CK.W  ),\n",
    "        '7/7'  : SKD(SKD_HC.W, SKD_V.W,  SKD_W.W_M, SKD_L.W,  SKD_EA.W,  SKD_CK.W  ),\n",
    "        '7/8'  : SKD(SKD_HC.H, SKD_V.HH, SKD_W.HH_S,SKD_L.HH, SKD_EA.HH, SKD_CK.HH ),\n",
    "        '7/9'  : SKD(SKD_HC.H, SKD_V.HA, SKD_W.HA,  SKD_L.HA, SKD_EA.HA, SKD_CK.HA ),\n",
    "        '7/10' : SKD(SKD_HC.W, SKD_V.W,  SKD_W.W_M, SKD_L.W,  SKD_EA.W,  SKD_CK.W  ),\n",
    "        '7/11' : SKD(SKD_HC.W, SKD_V.W,  SKD_W.W_S, SKD_L.W,  SKD_EA.W,  SKD_CK.W  ),\n",
    "        '7/12' : SKD(SKD_HC.W, SKD_V.W,  SKD_W.W_L, SKD_L.W,  SKD_EA.W,  SKD_CK.W  ),\n",
    "        '7/13' : SKD(SKD_HC.W, SKD_V.W,  SKD_W.W_S, SKD_L.W,  SKD_EA.W,  SKD_CK.W  ),\n",
    "        '7/14' : SKD(SKD_HC.W, SKD_V.W,  SKD_W.W_M, SKD_L.W,  SKD_EA.W,  SKD_CK.W  ),\n",
    "        '7/15' : SKD(SKD_HC.H, SKD_V.HH, SKD_W.HH_S,SKD_L.HH, SKD_EA.HH, SKD_CK.HH ),\n",
    "        '7/16' : SKD(SKD_HC.H, SKD_V.HH, SKD_W.HH_L,SKD_L.HH, SKD_EA.HH, SKD_CK.HH ),\n",
    "        '7/17' : SKD(SKD_HC.W, SKD_V.W,  SKD_W.W_M, SKD_L.W,  SKD_EA.W,  SKD_CK.W  ),\n",
    "        '7/18' : SKD(SKD_HC.W, SKD_V.W,  SKD_W.W_S, SKD_L.W,  SKD_EA.W,  SKD_CK.W  ),\n",
    "        '7/19' : SKD(SKD_HC.W, SKD_V.W,  SKD_W.W_M, SKD_L.W,  SKD_EA.W,  SKD_CK.W  ),\n",
    "        '7/20' : SKD(SKD_HC.H, SKD_V.HH, SKD_W.HH_S,SKD_L.HH, SKD_EA.HH, SKD_CK.HH ),\n",
    "        '7/21' : SKD(SKD_HC.W, SKD_V.W,  SKD_W.W_M, SKD_L.W,  SKD_EA.W,  SKD_CK.W  ),\n",
    "        '7/22' : SKD(SKD_HC.H, SKD_V.HH, SKD_W.HH_S,SKD_L.HH, SKD_EA.HH, SKD_CK.HH ),\n",
    "        '7/23' : SKD(SKD_HC.H, SKD_V.HA, SKD_W.HA,  SKD_L.HA, SKD_EA.HA, SKD_CK.HA ),\n",
    "        '7/24' : SKD(SKD_HC.W, SKD_V.W,  SKD_W.W_M, SKD_L.W,  SKD_EA.W,  SKD_CK.W  ),\n",
    "        '7/25' : SKD(SKD_HC.W, SKD_V.W,  SKD_W.W_S, SKD_L.W,  SKD_EA.W,  SKD_CK.W  ),\n",
    "        '7/26' : SKD(SKD_HC.W, SKD_V.W,  SKD_W.W_L, SKD_L.W,  SKD_EA.W,  SKD_CK.W  ),\n",
    "        '7/27' : SKD(SKD_HC.W, SKD_V.W,  SKD_W.W_S, SKD_L.W,  SKD_EA.W,  SKD_CK.W  ),\n",
    "        '7/28' : SKD(SKD_HC.W, SKD_V.W,  SKD_W.W_M, SKD_L.W,  SKD_EA.W,  SKD_CK.W  ),\n",
    "        '7/29' : SKD(SKD_HC.H, SKD_V.HH, SKD_W.HH_S,SKD_L.HH, SKD_EA.HH, SKD_CK.HH ),\n",
    "        '7/30' : SKD(SKD_HC.H, SKD_V.HH, SKD_W.HH_L,SKD_L.HH, SKD_EA.HH, SKD_CK.HH ),\n",
    "        '7/31' : SKD(SKD_HC.W, SKD_V.W,  SKD_W.W_M, SKD_L.W,  SKD_EA.W,  SKD_CK.W  ),\n",
    "        '8/1'  : SKD(SKD_HC.W, SKD_V.W,  SKD_W.W_S, SKD_L.W,  SKD_EA.W,  SKD_CK.W  ),\n",
    "        '8/2'  : SKD(SKD_HC.W, SKD_V.W,  SKD_W.W_M, SKD_L.W,  SKD_EA.W,  SKD_CK.W  ),\n",
    "        '8/3'  : SKD(SKD_HC.W, SKD_V.W,  SKD_W.W_M, SKD_L.W,  SKD_EA.W,  SKD_CK.W  ),\n",
    "        '8/4'  : SKD(SKD_HC.W, SKD_V.W,  SKD_W.W_M, SKD_L.W,  SKD_EA.W,  SKD_CK.W  ),\n",
    "        '8/5'  : SKD(SKD_HC.H, SKD_V.HH, SKD_W.HH_S,SKD_L.HH, SKD_EA.HH, SKD_CK.HH ),\n",
    "        '8/6'  : SKD(SKD_HC.H, SKD_V.HA, SKD_W.HA,  SKD_L.HA, SKD_EA.HA, SKD_CK.HA ),\n",
    "        '8/7'  : SKD(SKD_HC.W, SKD_V.W,  SKD_W.W_M, SKD_L.W,  SKD_EA.W,  SKD_CK.W  ),\n",
    "        '8/8'  : SKD(SKD_HC.W, SKD_V.W,  SKD_W.W_S, SKD_L.W,  SKD_EA.W,  SKD_CK.W  ),\n",
    "        '8/9'  : SKD(SKD_HC.W, SKD_V.W,  SKD_W.W_L, SKD_L.W,  SKD_EA.W,  SKD_CK.W  ),\n",
    "        '8/10' : SKD(SKD_HC.W, SKD_V.W,  SKD_W.W_S, SKD_L.W,  SKD_EA.W,  SKD_CK.W  ),\n",
    "        '8/11' : SKD(SKD_HC.W, SKD_V.W,  SKD_W.W_M, SKD_L.W,  SKD_EA.W,  SKD_CK.W  ),\n",
    "        '8/12' : SKD(SKD_HC.H, SKD_V.HH, SKD_W.HH_S,SKD_L.HH, SKD_EA.HH, SKD_CK.HH ),\n",
    "        '8/13' : SKD(SKD_HC.H, SKD_V.HH, SKD_W.HH_L,SKD_L.HH, SKD_EA.HH, SKD_CK.HH ),\n",
    "        '8/14' : SKD(SKD_HC.W, SKD_V.W,  SKD_W.W_M, SKD_L.W,  SKD_EA.W,  SKD_CK.W  ),\n",
    "        '8/15' : SKD(SKD_HC.W, SKD_V.W,  SKD_W.W_S, SKD_L.W,  SKD_EA.W,  SKD_CK.W  ),\n",
    "        '8/16' : SKD(SKD_HC.W, SKD_V.W,  SKD_W.W_M, SKD_L.W,  SKD_EA.W,  SKD_CK.W  ),\n",
    "        '8/17' : SKD(SKD_HC.W, SKD_V.W,  SKD_W.W_M, SKD_L.W,  SKD_EA.W,  SKD_CK.W  ),\n",
    "        '8/18' : SKD(SKD_HC.W, SKD_V.W,  SKD_W.W_M, SKD_L.W,  SKD_EA.W,  SKD_CK.W  ),\n",
    "        '8/19' : SKD(SKD_HC.H, SKD_V.HH, SKD_W.HH_S,SKD_L.HH, SKD_EA.HH, SKD_CK.HH ),\n",
    "        '8/20' : SKD(SKD_HC.H, SKD_V.HA, SKD_W.HA,  SKD_L.HA, SKD_EA.HA, SKD_CK.HA ),\n",
    "        '8/21' : SKD(SKD_HC.W, SKD_V.W,  SKD_W.W_M, SKD_L.W,  SKD_EA.W,  SKD_CK.W  ),\n",
    "        '8/22' : SKD(SKD_HC.W, SKD_V.W,  SKD_W.W_S, SKD_L.W,  SKD_EA.W,  SKD_CK.W  ),\n",
    "        '8/23' : SKD(SKD_HC.W, SKD_V.W,  SKD_W.W_L, SKD_L.W,  SKD_EA.W,  SKD_CK.W  ),\n",
    "        '8/24' : SKD(SKD_HC.W, SKD_V.W,  SKD_W.W_S, SKD_L.W,  SKD_EA.W,  SKD_CK.W  ),\n",
    "        '8/25' : SKD(SKD_HC.W, SKD_V.W,  SKD_W.W_M, SKD_L.W,  SKD_EA.W,  SKD_CK.W  ),\n",
    "        '8/26' : SKD(SKD_HC.H, SKD_V.HH, SKD_W.HH_S,SKD_L.HH, SKD_EA.HH, SKD_CK.HH ),\n",
    "        '8/27' : SKD(SKD_HC.H, SKD_V.HH, SKD_W.HH_L,SKD_L.HH, SKD_EA.HH, SKD_CK.HH ),\n",
    "        '8/28' : SKD(SKD_HC.W, SKD_V.W,  SKD_W.W_M, SKD_L.W,  SKD_EA.W,  SKD_CK.W  ),\n",
    "        '8/29' : SKD(SKD_HC.W, SKD_V.W,  SKD_W.W_S, SKD_L.W,  SKD_EA.W,  SKD_CK.W  ),\n",
    "        '8/30' : SKD(SKD_HC.W, SKD_V.W,  SKD_W.W_M, SKD_L.W,  SKD_EA.W,  SKD_CK.W  ),\n",
    "        '8/31' : SKD(SKD_HC.W, SKD_V.W,  SKD_W.W_M, SKD_L.W,  SKD_EA.W,  SKD_CK.W  ),\n",
    "        '9/1'  : SKD(SKD_HC.W, SKD_V.W,  SKD_W.W_M, SKD_L.W,  SKD_EA.W,  SKD_CK.W  ),\n",
    "        '9/2'  : SKD(SKD_HC.H, SKD_V.HH, SKD_W.HH_S,SKD_L.HH, SKD_EA.HH, SKD_CK.HH ),\n",
    "        '9/3'  : SKD(SKD_HC.H, SKD_V.HA, SKD_W.HA,  SKD_L.HA, SKD_EA.HA, SKD_CK.HA ),\n",
    "        '9/4'  : SKD(SKD_HC.W, SKD_V.W,  SKD_W.W_M, SKD_L.W,  SKD_EA.W,  SKD_CK.W  ),\n",
    "        '9/5'  : SKD(SKD_HC.W, SKD_V.W,  SKD_W.W_S, SKD_L.W,  SKD_EA.W,  SKD_CK.W  ),\n",
    "        '9/6'  : SKD(SKD_HC.W, SKD_V.W,  SKD_W.W_L, SKD_L.W,  SKD_EA.W,  SKD_CK.W  ),\n",
    "        '9/7'  : SKD(SKD_HC.W, SKD_V.W,  SKD_W.W_S, SKD_L.W,  SKD_EA.W,  SKD_CK.W  ),\n",
    "        '9/8'  : SKD(SKD_HC.W, SKD_V.W,  SKD_W.W_M, SKD_L.W,  SKD_EA.W,  SKD_CK.W  ),\n",
    "        '9/9'  : SKD(SKD_HC.H, SKD_V.HH, SKD_W.HH_S,SKD_L.HH, SKD_EA.HH, SKD_CK.HH ),\n",
    "        '9/10' : SKD(SKD_HC.H, SKD_V.HH, SKD_W.HH_L,SKD_L.HH, SKD_EA.HH, SKD_CK.HH ),\n",
    "        '9/11' : SKD(SKD_HC.W, SKD_V.W,  SKD_W.W_M, SKD_L.W,  SKD_EA.W,  SKD_CK.W  ),\n",
    "        '9/12' : SKD(SKD_HC.W, SKD_V.W,  SKD_W.W_S, SKD_L.W,  SKD_EA.W,  SKD_CK.W  ),\n",
    "        '9/13' : SKD(SKD_HC.W, SKD_V.W,  SKD_W.W_M, SKD_L.W,  SKD_EA.W,  SKD_CK.W  ),\n",
    "        '9/14' : SKD(SKD_HC.W, SKD_V.W,  SKD_W.W_M, SKD_L.W,  SKD_EA.W,  SKD_CK.W  ),\n",
    "        '9/15' : SKD(SKD_HC.H, SKD_V.HA, SKD_W.HA,  SKD_L.HA, SKD_EA.HA, SKD_CK.HA ),\n",
    "        '9/16' : SKD(SKD_HC.H, SKD_V.HH, SKD_W.HH_S,SKD_L.HH, SKD_EA.HH, SKD_CK.HH ),\n",
    "        '9/17' : SKD(SKD_HC.H, SKD_V.HA, SKD_W.HA,  SKD_L.HA, SKD_EA.HA, SKD_CK.HA ),\n",
    "        '9/18' : SKD(SKD_HC.W, SKD_V.W,  SKD_W.W_M, SKD_L.W,  SKD_EA.W,  SKD_CK.W  ),\n",
    "        '9/19' : SKD(SKD_HC.W, SKD_V.W,  SKD_W.W_S, SKD_L.W,  SKD_EA.W,  SKD_CK.W  ),\n",
    "        '9/20' : SKD(SKD_HC.W, SKD_V.W,  SKD_W.W_L, SKD_L.W,  SKD_EA.W,  SKD_CK.W  ),\n",
    "        '9/21' : SKD(SKD_HC.W, SKD_V.W,  SKD_W.W_S, SKD_L.W,  SKD_EA.W,  SKD_CK.W  ),\n",
    "        '9/22' : SKD(SKD_HC.W, SKD_V.W,  SKD_W.W_M, SKD_L.W,  SKD_EA.W,  SKD_CK.W  ),\n",
    "        '9/23' : SKD(SKD_HC.H, SKD_V.HH, SKD_W.HH_S,SKD_L.HH, SKD_EA.HH, SKD_CK.HH ),\n",
    "        '9/24' : SKD(SKD_HC.H, SKD_V.HH, SKD_W.HH_L,SKD_L.HH, SKD_EA.HH, SKD_CK.HH ),\n",
    "        '9/25' : SKD(SKD_HC.W, SKD_V.W,  SKD_W.W_M, SKD_L.W,  SKD_EA.W,  SKD_CK.W  ),\n",
    "        '9/26' : SKD(SKD_HC.W, SKD_V.W,  SKD_W.W_S, SKD_L.W,  SKD_EA.W,  SKD_CK.W  ),\n",
    "        '9/27' : SKD(SKD_HC.W, SKD_V.W,  SKD_W.W_M, SKD_L.W,  SKD_EA.W,  SKD_CK.W  ),\n",
    "        '9/28' : SKD(SKD_HC.W, SKD_V.W,  SKD_W.W_M, SKD_L.W,  SKD_EA.W,  SKD_CK.W  ),\n",
    "        '9/29' : SKD(SKD_HC.W, SKD_V.W,  SKD_W.W_M, SKD_L.W,  SKD_EA.W,  SKD_CK.W  ),\n",
    "        '9/30' : SKD(SKD_HC.H, SKD_V.HH, SKD_W.HH_S,SKD_L.HH, SKD_EA.HH, SKD_CK.HH ),\n",
    "        '10/1' : SKD(SKD_HC.H, SKD_V.HA, SKD_W.HA,  SKD_L.HA, SKD_EA.HA, SKD_CK.HA ),\n",
    "        '10/2' : SKD(SKD_HC.W, SKD_V.W,  SKD_W.W_M, SKD_L.W,  SKD_EA.W,  SKD_CK.W  ),\n",
    "        '10/3' : SKD(SKD_HC.W, SKD_V.W,  SKD_W.W_S, SKD_L.W,  SKD_EA.W,  SKD_CK.W  ),\n",
    "        '10/4' : SKD(SKD_HC.W, SKD_V.W,  SKD_W.W_L, SKD_L.W,  SKD_EA.W,  SKD_CK.W  ),\n",
    "        '10/5' : SKD(SKD_HC.W, SKD_V.W,  SKD_W.W_S, SKD_L.W,  SKD_EA.W,  SKD_CK.W  ),\n",
    "        '10/6' : SKD(SKD_HC.W, SKD_V.W,  SKD_W.W_M, SKD_L.W,  SKD_EA.W,  SKD_CK.W  ),\n",
    "        '10/7' : SKD(SKD_HC.H, SKD_V.HH, SKD_W.HH_S,SKD_L.HH, SKD_EA.HH, SKD_CK.HH ),\n",
    "        '10/8' : SKD(SKD_HC.H, SKD_V.HH, SKD_W.HH_L,SKD_L.HH, SKD_EA.HH, SKD_CK.HH ),\n",
    "        '10/9' : SKD(SKD_HC.W, SKD_V.W,  SKD_W.W_M, SKD_L.W,  SKD_EA.W,  SKD_CK.W  ),\n",
    "        '10/10': SKD(SKD_HC.H, SKD_V.HH, SKD_W.HH_S,SKD_L.HH, SKD_EA.HH, SKD_CK.HH ),\n",
    "        '10/11': SKD(SKD_HC.W, SKD_V.W,  SKD_W.W_M, SKD_L.W,  SKD_EA.W,  SKD_CK.W  ),\n",
    "        '10/12': SKD(SKD_HC.W, SKD_V.W,  SKD_W.W_M, SKD_L.W,  SKD_EA.W,  SKD_CK.W  ),\n",
    "        '10/13': SKD(SKD_HC.W, SKD_V.W,  SKD_W.W_M, SKD_L.W,  SKD_EA.W,  SKD_CK.W  ),\n",
    "        '10/14': SKD(SKD_HC.H, SKD_V.HH, SKD_W.HH_S,SKD_L.HH, SKD_EA.HH, SKD_CK.HH ),\n",
    "        '10/15': SKD(SKD_HC.H, SKD_V.HA, SKD_W.HA,  SKD_L.HA, SKD_EA.HA, SKD_CK.HA ),\n",
    "        '10/16': SKD(SKD_HC.W, SKD_V.W,  SKD_W.W_M, SKD_L.W,  SKD_EA.W,  SKD_CK.W  ),\n",
    "        '10/17': SKD(SKD_HC.W, SKD_V.W,  SKD_W.W_S, SKD_L.W,  SKD_EA.W,  SKD_CK.W  ),\n",
    "        '10/18': SKD(SKD_HC.W, SKD_V.W,  SKD_W.W_L, SKD_L.W,  SKD_EA.W,  SKD_CK.W  ),\n",
    "        '10/19': SKD(SKD_HC.W, SKD_V.W,  SKD_W.W_S, SKD_L.W,  SKD_EA.W,  SKD_CK.W  ),\n",
    "        '10/20': SKD(SKD_HC.W, SKD_V.W,  SKD_W.W_M, SKD_L.W,  SKD_EA.W,  SKD_CK.W  ),\n",
    "        '10/21': SKD(SKD_HC.H, SKD_V.HH, SKD_W.HH_S,SKD_L.HH, SKD_EA.HH, SKD_CK.HH ),\n",
    "        '10/22': SKD(SKD_HC.H, SKD_V.HH, SKD_W.HH_L,SKD_L.HH, SKD_EA.HH, SKD_CK.HH ),\n",
    "        '10/23': SKD(SKD_HC.W, SKD_V.W,  SKD_W.W_M, SKD_L.W,  SKD_EA.W,  SKD_CK.W  ),\n",
    "        '10/24': SKD(SKD_HC.W, SKD_V.W,  SKD_W.W_S, SKD_L.W,  SKD_EA.W,  SKD_CK.W  ),\n",
    "        '10/25': SKD(SKD_HC.W, SKD_V.W,  SKD_W.W_M, SKD_L.W,  SKD_EA.W,  SKD_CK.W  ),\n",
    "        '10/26': SKD(SKD_HC.W, SKD_V.W,  SKD_W.W_M, SKD_L.W,  SKD_EA.W,  SKD_CK.W  ),\n",
    "        '10/27': SKD(SKD_HC.W, SKD_V.W,  SKD_W.W_M, SKD_L.W,  SKD_EA.W,  SKD_CK.W  ),\n",
    "        '10/28': SKD(SKD_HC.H, SKD_V.HH, SKD_W.HH_S,SKD_L.HH, SKD_EA.HH, SKD_CK.HH ),\n",
    "        '10/29': SKD(SKD_HC.H, SKD_V.HA, SKD_W.HA,  SKD_L.HA, SKD_EA.HA, SKD_CK.HA ),\n",
    "        '10/30': SKD(SKD_HC.W, SKD_V.W,  SKD_W.W_M, SKD_L.W,  SKD_EA.W,  SKD_CK.W  ),\n",
    "        '10/31': SKD(SKD_HC.W, SKD_V.W,  SKD_W.W_S, SKD_L.W,  SKD_EA.W,  SKD_CK.W  ),\n",
    "        '11/1' : SKD(SKD_HC.W, SKD_V.W,  SKD_W.W_L, SKD_L.W,  SKD_EA.W,  SKD_CK.W  ),\n",
    "        '11/2' : SKD(SKD_HC.W, SKD_V.W,  SKD_W.W_S, SKD_L.W,  SKD_EA.W,  SKD_CK.W  ),\n",
    "        '11/3' : SKD(SKD_HC.H, SKD_V.HH, SKD_W.HH_S,SKD_L.HH, SKD_EA.HH, SKD_CK.HH ),\n",
    "        '11/4' : SKD(SKD_HC.H, SKD_V.HH, SKD_W.HH_S,SKD_L.HH, SKD_EA.HH, SKD_CK.HH ),\n",
    "        '11/5' : SKD(SKD_HC.H, SKD_V.HH, SKD_W.HH_L,SKD_L.HH, SKD_EA.HH, SKD_CK.HH ),\n",
    "        '11/6' : SKD(SKD_HC.W, SKD_V.W,  SKD_W.W_M, SKD_L.W,  SKD_EA.W,  SKD_CK.W  ),\n",
    "        '11/7' : SKD(SKD_HC.W, SKD_V.W,  SKD_W.W_S, SKD_L.W,  SKD_EA.W,  SKD_CK.W  ),\n",
    "        '11/8' : SKD(SKD_HC.W, SKD_V.W,  SKD_W.W_M, SKD_L.W,  SKD_EA.W,  SKD_CK.W  ),\n",
    "        '11/9' : SKD(SKD_HC.W, SKD_V.W,  SKD_W.W_M, SKD_L.W,  SKD_EA.W,  SKD_CK.W  ),\n",
    "        '11/10': SKD(SKD_HC.W, SKD_V.W,  SKD_W.W_M, SKD_L.W,  SKD_EA.W,  SKD_CK.W  ),\n",
    "        '11/11': SKD(SKD_HC.H, SKD_V.HH, SKD_W.HH_S,SKD_L.HH, SKD_EA.HH, SKD_CK.HH ),\n",
    "        '11/12': SKD(SKD_HC.H, SKD_V.HA, SKD_W.HA,  SKD_L.HA, SKD_EA.HA, SKD_CK.HA ),\n",
    "        '11/13': SKD(SKD_HC.W, SKD_V.W,  SKD_W.W_M, SKD_L.W,  SKD_EA.W,  SKD_CK.W  ),\n",
    "        '11/14': SKD(SKD_HC.W, SKD_V.W,  SKD_W.W_S, SKD_L.W,  SKD_EA.W,  SKD_CK.W  ),\n",
    "        '11/15': SKD(SKD_HC.W, SKD_V.W,  SKD_W.W_L, SKD_L.W,  SKD_EA.W,  SKD_CK.W  ),\n",
    "        '11/16': SKD(SKD_HC.W, SKD_V.W,  SKD_W.W_S, SKD_L.W,  SKD_EA.W,  SKD_CK.W  ),\n",
    "        '11/17': SKD(SKD_HC.W, SKD_V.W,  SKD_W.W_M, SKD_L.W,  SKD_EA.W,  SKD_CK.W  ),\n",
    "        '11/18': SKD(SKD_HC.H, SKD_V.HH, SKD_W.HH_S,SKD_L.HH, SKD_EA.HH, SKD_CK.HH ),\n",
    "        '11/19': SKD(SKD_HC.H, SKD_V.HH, SKD_W.HH_L,SKD_L.HH, SKD_EA.HH, SKD_CK.HH ),\n",
    "        '11/20': SKD(SKD_HC.W, SKD_V.W,  SKD_W.W_M, SKD_L.W,  SKD_EA.W,  SKD_CK.W  ),\n",
    "        '11/21': SKD(SKD_HC.W, SKD_V.W,  SKD_W.W_S, SKD_L.W,  SKD_EA.W,  SKD_CK.W  ),\n",
    "        '11/22': SKD(SKD_HC.W, SKD_V.W,  SKD_W.W_M, SKD_L.W,  SKD_EA.W,  SKD_CK.W  ),\n",
    "        '11/23': SKD(SKD_HC.H, SKD_V.HH, SKD_W.HH_S,SKD_L.HH, SKD_EA.HH, SKD_CK.HH ),\n",
    "        '11/24': SKD(SKD_HC.W, SKD_V.W,  SKD_W.W_M, SKD_L.W,  SKD_EA.W,  SKD_CK.W  ),\n",
    "        '11/25': SKD(SKD_HC.H, SKD_V.HH, SKD_W.HH_S,SKD_L.HH, SKD_EA.HH, SKD_CK.HH ),\n",
    "        '11/26': SKD(SKD_HC.H, SKD_V.HA, SKD_W.HA,  SKD_L.HA, SKD_EA.HA, SKD_CK.HA ),\n",
    "        '11/27': SKD(SKD_HC.W, SKD_V.W,  SKD_W.W_M, SKD_L.W,  SKD_EA.W,  SKD_CK.W  ),\n",
    "        '11/28': SKD(SKD_HC.W, SKD_V.W,  SKD_W.W_S, SKD_L.W,  SKD_EA.W,  SKD_CK.W  ),\n",
    "        '11/29': SKD(SKD_HC.W, SKD_V.W,  SKD_W.W_L, SKD_L.W,  SKD_EA.W,  SKD_CK.W  ),\n",
    "        '11/30': SKD(SKD_HC.W, SKD_V.W,  SKD_W.W_S, SKD_L.W,  SKD_EA.W,  SKD_CK.W  ),\n",
    "        '12/1' : SKD(SKD_HC.W, SKD_V.W,  SKD_W.W_M, SKD_L.W,  SKD_EA.W,  SKD_CK.W  ),\n",
    "        '12/2' : SKD(SKD_HC.H, SKD_V.HH, SKD_W.HH_S,SKD_L.HH, SKD_EA.HH, SKD_CK.HH ),\n",
    "        '12/3' : SKD(SKD_HC.H, SKD_V.HH, SKD_W.HH_L,SKD_L.HH, SKD_EA.HH, SKD_CK.HH ),\n",
    "        '12/4' : SKD(SKD_HC.W, SKD_V.W,  SKD_W.W_M, SKD_L.W,  SKD_EA.W,  SKD_CK.W  ),\n",
    "        '12/5' : SKD(SKD_HC.W, SKD_V.W,  SKD_W.W_S, SKD_L.W,  SKD_EA.W,  SKD_CK.W  ),\n",
    "        '12/6' : SKD(SKD_HC.W, SKD_V.W,  SKD_W.W_M, SKD_L.W,  SKD_EA.W,  SKD_CK.W  ),\n",
    "        '12/7' : SKD(SKD_HC.W, SKD_V.W,  SKD_W.W_M, SKD_L.W,  SKD_EA.W,  SKD_CK.W  ),\n",
    "        '12/8' : SKD(SKD_HC.W, SKD_V.W,  SKD_W.W_M, SKD_L.W,  SKD_EA.W,  SKD_CK.W  ),\n",
    "        '12/9' : SKD(SKD_HC.H, SKD_V.HH, SKD_W.HH_S,SKD_L.HH, SKD_EA.HH, SKD_CK.HH ),\n",
    "        '12/10': SKD(SKD_HC.H, SKD_V.HA, SKD_W.HA,  SKD_L.HA, SKD_EA.HA, SKD_CK.HA ),\n",
    "        '12/11': SKD(SKD_HC.W, SKD_V.W,  SKD_W.W_M, SKD_L.W,  SKD_EA.W,  SKD_CK.W  ),\n",
    "        '12/12': SKD(SKD_HC.W, SKD_V.W,  SKD_W.W_S, SKD_L.W,  SKD_EA.W,  SKD_CK.W  ),\n",
    "        '12/13': SKD(SKD_HC.W, SKD_V.W,  SKD_W.W_L, SKD_L.W,  SKD_EA.W,  SKD_CK.W  ),\n",
    "        '12/14': SKD(SKD_HC.W, SKD_V.W,  SKD_W.W_S, SKD_L.W,  SKD_EA.W,  SKD_CK.W  ),\n",
    "        '12/15': SKD(SKD_HC.W, SKD_V.W,  SKD_W.W_M, SKD_L.W,  SKD_EA.W,  SKD_CK.W  ),\n",
    "        '12/16': SKD(SKD_HC.H, SKD_V.HH, SKD_W.HH_S,SKD_L.HH, SKD_EA.HH, SKD_CK.HH ),\n",
    "        '12/17': SKD(SKD_HC.H, SKD_V.HH, SKD_W.HH_L,SKD_L.HH, SKD_EA.HH, SKD_CK.HH ),\n",
    "        '12/18': SKD(SKD_HC.W, SKD_V.W,  SKD_W.W_M, SKD_L.W,  SKD_EA.W,  SKD_CK.W  ),\n",
    "        '12/19': SKD(SKD_HC.W, SKD_V.W,  SKD_W.W_S, SKD_L.W,  SKD_EA.W,  SKD_CK.W  ),\n",
    "        '12/20': SKD(SKD_HC.W, SKD_V.W,  SKD_W.W_M, SKD_L.W,  SKD_EA.W,  SKD_CK.W  ),\n",
    "        '12/21': SKD(SKD_HC.W, SKD_V.W,  SKD_W.W_M, SKD_L.W,  SKD_EA.W,  SKD_CK.W  ),\n",
    "        '12/22': SKD(SKD_HC.W, SKD_V.W,  SKD_W.W_M, SKD_L.W,  SKD_EA.W,  SKD_CK.W  ),\n",
    "        '12/23': SKD(SKD_HC.H, SKD_V.HH, SKD_W.HH_S,SKD_L.HH, SKD_EA.HH, SKD_CK.HH ),\n",
    "        '12/24': SKD(SKD_HC.H, SKD_V.HA, SKD_W.HA,  SKD_L.HA, SKD_EA.HA, SKD_CK.HA ),\n",
    "        '12/25': SKD(SKD_HC.W, SKD_V.W,  SKD_W.W_M, SKD_L.W,  SKD_EA.W,  SKD_CK.W  ),\n",
    "        '12/26': SKD(SKD_HC.W, SKD_V.W,  SKD_W.W_S, SKD_L.W,  SKD_EA.W,  SKD_CK.W  ),\n",
    "        '12/27': SKD(SKD_HC.W, SKD_V.W,  SKD_W.W_L, SKD_L.W,  SKD_EA.W,  SKD_CK.W  ),\n",
    "        '12/28': SKD(SKD_HC.W, SKD_V.W,  SKD_W.W_S, SKD_L.W,  SKD_EA.W,  SKD_CK.W  ),\n",
    "        '12/29': SKD(SKD_HC.W, SKD_V.W,  SKD_W.W_M, SKD_L.W,  SKD_EA.W,  SKD_CK.W  ),\n",
    "        '12/30': SKD(SKD_HC.H, SKD_V.HA, SKD_W.HA,  SKD_L.HA, SKD_EA.HA, SKD_CK.HA ),\n",
    "        '12/31': SKD(SKD_HC.H, SKD_V.HH, SKD_W.HH_S,SKD_L.HH, SKD_EA.HH, SKD_CK.HH )\n",
    "    }\n",
    "    \n",
    "    def get_schedule( self, usage, day ):\n",
    "        return {\n",
    "            'Heating':            self.schedule[day].HC,\n",
    "            'Cooling':            self.schedule[day].HC,\n",
    "            'Ventilation':        self.schedule[day].V,\n",
    "            'HotWaterSupply':     self.schedule[day].W,\n",
    "            'Lighting':           self.schedule[day].L,\n",
    "            'ElectricAppliances': self.schedule[day].EA,\n",
    "            'Cooking':            self.schedule[day].CK,\n",
    "        }[usage]"
   ]
  },
  {
   "cell_type": "markdown",
   "metadata": {},
   "source": [
    "### 3.2 Get annual days"
   ]
  },
  {
   "cell_type": "code",
   "execution_count": 10,
   "metadata": {
    "collapsed": true
   },
   "outputs": [],
   "source": [
    "def get_Annual_Days():\n",
    "    return ['1/1'  ,'1/2'  ,'1/3'  ,'1/4'  ,'1/5'  ,'1/6'  ,'1/7'  ,'1/8'  ,'1/9'  ,'1/10' ,'1/11' ,'1/12' ,'1/13' ,'1/14' ,'1/15' ,'1/16' ,'1/17' ,'1/18' ,'1/19' ,'1/20' ,'1/21' ,'1/22' ,'1/23' ,'1/24' ,'1/25' ,'1/26' ,'1/27' ,'1/28' ,'1/29' ,'1/30' ,'1/31' ,'2/1'  ,'2/2'  ,'2/3'  ,'2/4'  ,'2/5'  ,'2/6'  ,'2/7'  ,'2/8'  ,'2/9'  ,'2/10' ,'2/11' ,'2/12' ,'2/13' ,'2/14' ,'2/15' ,'2/16' ,'2/17' ,'2/18' ,'2/19' ,'2/20' ,'2/21' ,'2/22' ,'2/23' ,'2/24' ,'2/25' ,'2/26' ,'2/27' ,'2/28' ,'3/1'  ,'3/2'  ,'3/3'  ,'3/4'  ,'3/5'  ,'3/6'  ,'3/7'  ,'3/8'  ,'3/9'  ,'3/10' ,'3/11' ,'3/12' ,'3/13' ,'3/14' ,'3/15' ,'3/16' ,'3/17' ,'3/18' ,'3/19' ,'3/20' ,'3/21' ,'3/22' ,'3/23' ,'3/24' ,'3/25' ,'3/26' ,'3/27' ,'3/28' ,'3/29' ,'3/30' ,'3/31' ,'4/1'  ,'4/2'  ,'4/3'  ,'4/4'  ,'4/5'  ,'4/6'  ,'4/7'  ,'4/8'  ,'4/9'  ,'4/10' ,'4/11' ,'4/12' ,'4/13' ,'4/14' ,'4/15' ,'4/16' ,'4/17' ,'4/18' ,'4/19' ,'4/20' ,'4/21' ,'4/22' ,'4/23' ,'4/24' ,'4/25' ,'4/26' ,'4/27' ,'4/28' ,'4/29' ,'4/30' ,'5/1'  ,'5/2'  ,'5/3'  ,'5/4'  ,'5/5'  ,'5/6'  ,'5/7'  ,'5/8'  ,'5/9'  ,'5/10' ,'5/11' ,'5/12' ,'5/13' ,'5/14' ,'5/15' ,'5/16' ,'5/17' ,'5/18' ,'5/19' ,'5/20' ,'5/21' ,'5/22' ,'5/23' ,'5/24' ,'5/25' ,'5/26' ,'5/27' ,'5/28' ,'5/29' ,'5/30' ,'5/31' ,'6/1'  ,'6/2'  ,'6/3'  ,'6/4'  ,'6/5'  ,'6/6'  ,'6/7'  ,'6/8'  ,'6/9'  ,'6/10' ,'6/11' ,'6/12' ,'6/13' ,'6/14' ,'6/15' ,'6/16' ,'6/17' ,'6/18' ,'6/19' ,'6/20' ,'6/21' ,'6/22' ,'6/23' ,'6/24' ,'6/25' ,'6/26' ,'6/27' ,'6/28' ,'6/29' ,'6/30' ,'7/1'  ,'7/2'  ,'7/3'  ,'7/4'  ,'7/5'  ,'7/6'  ,'7/7'  ,'7/8'  ,'7/9'  ,'7/10' ,'7/11' ,'7/12' ,'7/13' ,'7/14' ,'7/15' ,'7/16' ,'7/17' ,'7/18' ,'7/19' ,'7/20' ,'7/21' ,'7/22' ,'7/23' ,'7/24' ,'7/25' ,'7/26' ,'7/27' ,'7/28' ,'7/29' ,'7/30' ,'7/31' ,'8/1'  ,'8/2'  ,'8/3'  ,'8/4'  ,'8/5'  ,'8/6'  ,'8/7'  ,'8/8'  ,'8/9'  ,'8/10' ,'8/11' ,'8/12' ,'8/13' ,'8/14' ,'8/15' ,'8/16' ,'8/17' ,'8/18' ,'8/19' ,'8/20' ,'8/21' ,'8/22' ,'8/23' ,'8/24' ,'8/25' ,'8/26' ,'8/27' ,'8/28' ,'8/29' ,'8/30' ,'8/31' ,'9/1'  ,'9/2'  ,'9/3'  ,'9/4'  ,'9/5'  ,'9/6'  ,'9/7'  ,'9/8'  ,'9/9'  ,'9/10' ,'9/11' ,'9/12' ,'9/13' ,'9/14' ,'9/15' ,'9/16' ,'9/17' ,'9/18' ,'9/19' ,'9/20' ,'9/21' ,'9/22' ,'9/23' ,'9/24' ,'9/25' ,'9/26' ,'9/27' ,'9/28' ,'9/29' ,'9/30' ,'10/1' ,'10/2' ,'10/3' ,'10/4' ,'10/5' ,'10/6' ,'10/7' ,'10/8' ,'10/9' ,'10/10','10/11','10/12','10/13','10/14','10/15','10/16','10/17','10/18','10/19','10/20','10/21','10/22','10/23','10/24','10/25','10/26','10/27','10/28','10/29','10/30','10/31','11/1' ,'11/2' ,'11/3' ,'11/4' ,'11/5' ,'11/6' ,'11/7' ,'11/8' ,'11/9' ,'11/10','11/11','11/12','11/13','11/14','11/15','11/16','11/17','11/18','11/19','11/20','11/21','11/22','11/23','11/24','11/25','11/26','11/27','11/28','11/29','11/30','12/1' ,'12/2' ,'12/3' ,'12/4' ,'12/5' ,'12/6' ,'12/7' ,'12/8' ,'12/9' ,'12/10','12/11','12/12','12/13','12/14','12/15','12/16','12/17','12/18','12/19','12/20','12/21','12/22','12/23','12/24','12/25','12/26','12/27','12/28','12/29','12/30','12/31',]"
   ]
  },
  {
   "cell_type": "markdown",
   "metadata": {},
   "source": [
    "### 3.3 Get Schedule"
   ]
  },
  {
   "cell_type": "markdown",
   "metadata": {},
   "source": [
    "Define the usage and day as the arguments."
   ]
  },
  {
   "cell_type": "code",
   "execution_count": 11,
   "metadata": {
    "collapsed": true
   },
   "outputs": [],
   "source": [
    "def get_Schedule(usage, day):\n",
    "    _annual_schedule = AnnualSchedule()\n",
    "    return _annual_schedule.get_schedule(usage,day)"
   ]
  },
  {
   "cell_type": "markdown",
   "metadata": {},
   "source": [
    "#### Examples "
   ]
  },
  {
   "cell_type": "markdown",
   "metadata": {},
   "source": [
    "12/31 Heating"
   ]
  },
  {
   "cell_type": "code",
   "execution_count": 12,
   "metadata": {
    "collapsed": false
   },
   "outputs": [
    {
     "data": {
      "text/plain": [
       "<SKD_HC.W: 'Weekday'>"
      ]
     },
     "execution_count": 12,
     "metadata": {},
     "output_type": "execute_result"
    }
   ],
   "source": [
    "get_Schedule('Heating','12/29')"
   ]
  },
  {
   "cell_type": "markdown",
   "metadata": {},
   "source": [
    "12/30 Ventilation"
   ]
  },
  {
   "cell_type": "code",
   "execution_count": 13,
   "metadata": {
    "collapsed": false
   },
   "outputs": [
    {
     "data": {
      "text/plain": [
       "<SKD_V.HA: 'Holiday in Absence'>"
      ]
     },
     "execution_count": 13,
     "metadata": {},
     "output_type": "execute_result"
    }
   ],
   "source": [
    "get_Schedule('Ventilation','12/30')"
   ]
  },
  {
   "cell_type": "markdown",
   "metadata": {},
   "source": [
    "#### Count the number of the types of schedule for each usage."
   ]
  },
  {
   "cell_type": "code",
   "execution_count": 14,
   "metadata": {
    "collapsed": true
   },
   "outputs": [],
   "source": [
    "def count_types_of_schedule(usage):\n",
    "    types_of_schedule = list(map(lambda d: get_Schedule(usage, d),  get_Annual_Days() ))\n",
    "    return collections.Counter(types_of_schedule)"
   ]
  },
  {
   "cell_type": "markdown",
   "metadata": {},
   "source": [
    "Heating"
   ]
  },
  {
   "cell_type": "code",
   "execution_count": 15,
   "metadata": {
    "collapsed": false
   },
   "outputs": [
    {
     "data": {
      "text/plain": [
       "Counter({<SKD_HC.H: 'Holiday'>: 114, <SKD_HC.W: 'Weekday'>: 251})"
      ]
     },
     "execution_count": 15,
     "metadata": {},
     "output_type": "execute_result"
    }
   ],
   "source": [
    "count_types_of_schedule('Heating')"
   ]
  },
  {
   "cell_type": "markdown",
   "metadata": {},
   "source": [
    "Cooling"
   ]
  },
  {
   "cell_type": "code",
   "execution_count": 16,
   "metadata": {
    "collapsed": false
   },
   "outputs": [
    {
     "data": {
      "text/plain": [
       "Counter({<SKD_HC.H: 'Holiday'>: 114, <SKD_HC.W: 'Weekday'>: 251})"
      ]
     },
     "execution_count": 16,
     "metadata": {},
     "output_type": "execute_result"
    }
   ],
   "source": [
    "count_types_of_schedule('Cooling')"
   ]
  },
  {
   "cell_type": "markdown",
   "metadata": {},
   "source": [
    "Ventilation"
   ]
  },
  {
   "cell_type": "code",
   "execution_count": 17,
   "metadata": {
    "collapsed": false
   },
   "outputs": [
    {
     "data": {
      "text/plain": [
       "Counter({<SKD_V.HH: 'Holiday in House'>: 84,\n",
       "         <SKD_V.W: 'Weekday'>: 251,\n",
       "         <SKD_V.HA: 'Holiday in Absence'>: 30})"
      ]
     },
     "execution_count": 17,
     "metadata": {},
     "output_type": "execute_result"
    }
   ],
   "source": [
    "count_types_of_schedule('Ventilation')"
   ]
  },
  {
   "cell_type": "markdown",
   "metadata": {},
   "source": [
    "Hot Water Supply"
   ]
  },
  {
   "cell_type": "code",
   "execution_count": 18,
   "metadata": {
    "collapsed": false
   },
   "outputs": [
    {
     "data": {
      "text/plain": [
       "Counter({<SKD_W.HH_L: 'Holiday in House with Large use'>: 26,\n",
       "         <SKD_W.W_M: 'Weekday with Middle use'>: 151,\n",
       "         <SKD_W.W_S: 'Weekday with Small use'>: 75,\n",
       "         <SKD_W.HH_S: 'Holiday in House with Small use'>: 58,\n",
       "         <SKD_W.HA: 'Holiday in Absence'>: 30,\n",
       "         <SKD_W.W_L: 'Weekday with Large use'>: 25})"
      ]
     },
     "execution_count": 18,
     "metadata": {},
     "output_type": "execute_result"
    }
   ],
   "source": [
    "count_types_of_schedule('HotWaterSupply')"
   ]
  },
  {
   "cell_type": "markdown",
   "metadata": {},
   "source": [
    "Lighting"
   ]
  },
  {
   "cell_type": "code",
   "execution_count": 19,
   "metadata": {
    "collapsed": false
   },
   "outputs": [
    {
     "data": {
      "text/plain": [
       "Counter({<SKD_L.HH: 'Holiday in House'>: 84,\n",
       "         <SKD_L.W: 'Weekday'>: 251,\n",
       "         <SKD_L.HA: 'Holiday in Absence'>: 30})"
      ]
     },
     "execution_count": 19,
     "metadata": {},
     "output_type": "execute_result"
    }
   ],
   "source": [
    "count_types_of_schedule('Lighting')"
   ]
  },
  {
   "cell_type": "markdown",
   "metadata": {},
   "source": [
    "Electric Appliances"
   ]
  },
  {
   "cell_type": "code",
   "execution_count": 20,
   "metadata": {
    "collapsed": false
   },
   "outputs": [
    {
     "data": {
      "text/plain": [
       "Counter({<SKD_EA.HH: 'Holiday in House'>: 84,\n",
       "         <SKD_EA.W: 'Weekday'>: 251,\n",
       "         <SKD_EA.HA: 'Holiday in Absence'>: 30})"
      ]
     },
     "execution_count": 20,
     "metadata": {},
     "output_type": "execute_result"
    }
   ],
   "source": [
    "count_types_of_schedule('ElectricAppliances')"
   ]
  },
  {
   "cell_type": "markdown",
   "metadata": {},
   "source": [
    "Cooking"
   ]
  },
  {
   "cell_type": "code",
   "execution_count": 21,
   "metadata": {
    "collapsed": false
   },
   "outputs": [
    {
     "data": {
      "text/plain": [
       "Counter({<SKD_CK.HH: 'Holiday in House'>: 84,\n",
       "         <SKD_CK.W: 'Weekday'>: 251,\n",
       "         <SKD_CK.HA: 'Holiday in Absence'>: 30})"
      ]
     },
     "execution_count": 21,
     "metadata": {},
     "output_type": "execute_result"
    }
   ],
   "source": [
    "count_types_of_schedule('Cooking')"
   ]
  }
 ],
 "metadata": {
  "kernelspec": {
   "display_name": "Python 3",
   "language": "python",
   "name": "python3"
  },
  "language_info": {
   "codemirror_mode": {
    "name": "ipython",
    "version": 3
   },
   "file_extension": ".py",
   "mimetype": "text/x-python",
   "name": "python",
   "nbconvert_exporter": "python",
   "pygments_lexer": "ipython3",
   "version": "3.6.5"
  }
 },
 "nbformat": 4,
 "nbformat_minor": 2
}
