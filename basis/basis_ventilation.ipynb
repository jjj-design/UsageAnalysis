{
 "cells": [
  {
   "cell_type": "code",
   "execution_count": 1,
   "metadata": {},
   "outputs": [
    {
     "name": "stdout",
     "output_type": "stream",
     "text": [
      "Importing Jupyter notebook from ventilation.ipynb\n",
      "Importing Jupyter notebook from life_schedule.ipynb\n"
     ]
    }
   ],
   "source": [
    "import nbimporter\n",
    "\n",
    "from ventilation import getHoerlyElectricPower\n",
    "from life_schedule import get_Annual_Days"
   ]
  },
  {
   "cell_type": "code",
   "execution_count": 2,
   "metadata": {},
   "outputs": [],
   "source": [
    "def my_round(val, digit=0):\n",
    "    p = 10 ** digit\n",
    "    return (val * p * 2 + 1) // 2 / p"
   ]
  },
  {
   "cell_type": "markdown",
   "metadata": {},
   "source": [
    "# 換気の仮計算のエネルギー消費量の諸元"
   ]
  },
  {
   "cell_type": "markdown",
   "metadata": {},
   "source": [
    "## 1. 評価の方法"
   ]
  },
  {
   "cell_type": "markdown",
   "metadata": {},
   "source": [
    "全般換気と局所換気と分けて計算する。  \n",
    "全般換気は床面積に比例するため、1つ計算し、面積に比例した係数を算出する。  \n",
    "局所換気は居住人数ごとに求まるため、1,2,3,4人それぞれ計算する。"
   ]
  },
  {
   "cell_type": "markdown",
   "metadata": {},
   "source": [
    "## 2. 全般換気の計算"
   ]
  },
  {
   "cell_type": "markdown",
   "metadata": {},
   "source": [
    "### 1) 計算与条件"
   ]
  },
  {
   "cell_type": "markdown",
   "metadata": {},
   "source": [
    "以下の条件で計算する。\n",
    "\n",
    "- 床面積の合計: 120 m<sup>2</sup>\n",
    "- 換気設備の種類: 壁付け式第三種換気設備\n",
    "- 比消費電力: 0.3\n",
    "- 換気回数: 0.5 h<sup>-1</sup>\n",
    "- 省エネルギー対策の有無: 比消費電力を入力することにより省エネルギー効果を評価する"
   ]
  },
  {
   "cell_type": "code",
   "execution_count": 3,
   "metadata": {},
   "outputs": [],
   "source": [
    "spec_general = {\n",
    "    'General': {\n",
    "        'AllFloorArea' : '120' # m2\n",
    "    },\n",
    "    'Ventilation': {  \n",
    "        'VentilationType': 'WallType3',          # 'DuctType1', 'DuctType2', 'DuctType3', 'WallType1', 'WallType2', 'WallType3'\n",
    "        'WallMountedTypeSpec' : {\n",
    "            'EnergySavingType' : 'SFP',    # 'None', 'SFP'\n",
    "            'SFP'              : '0.3'     # Decimal Value represented as string\n",
    "        },\n",
    "        'VentilationRate'          : '0.5',    # '0.5', '0.7', '0.0'\n",
    "        'EffectiveVentilationRate' : '1.0'     # Decimal Value represented as string\n",
    "    },\n",
    "    'HeatExchanger' : {\n",
    "        'Apply'                   : 'NotApply', # 'Apply', 'NotApply'\n",
    "    }\n",
    "}"
   ]
  },
  {
   "cell_type": "markdown",
   "metadata": {},
   "source": [
    "### 2) 年間計算"
   ]
  },
  {
   "cell_type": "code",
   "execution_count": 4,
   "metadata": {},
   "outputs": [],
   "source": [
    "general_annualy = sum([getHoerlyElectricPower(spec_general, day = d, hour = h)[1] for d in get_Annual_Days() for h in range(24)])"
   ]
  },
  {
   "cell_type": "code",
   "execution_count": 5,
   "metadata": {},
   "outputs": [
    {
     "name": "stdout",
     "output_type": "stream",
     "text": [
      "年間計算値 kWh: 416.27520000005126\n"
     ]
    }
   ],
   "source": [
    "print('年間計算値 kWh: ' + str(general_annualy))"
   ]
  },
  {
   "cell_type": "markdown",
   "metadata": {},
   "source": [
    "一次エネ換算値"
   ]
  },
  {
   "cell_type": "code",
   "execution_count": 6,
   "metadata": {},
   "outputs": [],
   "source": [
    "general_annualy_prime = general_annualy * 9.76"
   ]
  },
  {
   "cell_type": "code",
   "execution_count": 7,
   "metadata": {},
   "outputs": [
    {
     "name": "stdout",
     "output_type": "stream",
     "text": [
      "年間計算値 MJ: 4062.8459520005003\n"
     ]
    }
   ],
   "source": [
    "print('年間計算値 MJ: ' + str(general_annualy_prime))"
   ]
  },
  {
   "cell_type": "markdown",
   "metadata": {},
   "source": [
    "### 3) 面積に乗じる係数"
   ]
  },
  {
   "cell_type": "markdown",
   "metadata": {},
   "source": [
    "床面積120 m<sup>2</sup> で除する。"
   ]
  },
  {
   "cell_type": "markdown",
   "metadata": {},
   "source": [
    "二次エネルギー(kWh)ベースの場合"
   ]
  },
  {
   "cell_type": "code",
   "execution_count": 8,
   "metadata": {},
   "outputs": [],
   "source": [
    "coeff_general = general_annualy / 120"
   ]
  },
  {
   "cell_type": "code",
   "execution_count": 9,
   "metadata": {},
   "outputs": [
    {
     "name": "stdout",
     "output_type": "stream",
     "text": [
      "係数(二次)(kWh/m2): 3.47\n"
     ]
    }
   ],
   "source": [
    "print('係数(二次)(kWh/m2): ' + str(my_round(coeff_general,2)))"
   ]
  },
  {
   "cell_type": "markdown",
   "metadata": {},
   "source": [
    "一次エネルギー(MJ)ベースの場合"
   ]
  },
  {
   "cell_type": "code",
   "execution_count": 10,
   "metadata": {},
   "outputs": [],
   "source": [
    "coeff_general_prime = general_annualy_prime / 120"
   ]
  },
  {
   "cell_type": "code",
   "execution_count": 11,
   "metadata": {},
   "outputs": [
    {
     "name": "stdout",
     "output_type": "stream",
     "text": [
      "係数(一次)(MJ/m2): 33.9\n"
     ]
    }
   ],
   "source": [
    "print('係数(一次)(MJ/m2): ' + str(my_round(coeff_general_prime,1)))"
   ]
  },
  {
   "cell_type": "markdown",
   "metadata": {},
   "source": [
    "## 3. 局所換気の計算"
   ]
  },
  {
   "cell_type": "markdown",
   "metadata": {},
   "source": [
    "### 1) 計算与条件"
   ]
  },
  {
   "cell_type": "markdown",
   "metadata": {},
   "source": [
    "以下の条件で計算する。\n",
    "\n",
    "- 床面積の合計: 30, 60, 90, 120 m<sup>2</sup>\n",
    "- 換気設備の種類: 壁付け式第三種換気設備\n",
    "- 比消費電力: 0.3\n",
    "- 換気回数: 0.5 h<sup>-1</sup>\n",
    "- 省エネルギー対策の有無: 比消費電力を入力することにより省エネルギー効果を評価する\n",
    "\n",
    "居住人数は、床面積の合計に依存し、下記のルールが存在するため、結果的に居住人数が1,2,3,4人になるように床面積の合計を与える。\n",
    "- 30 m<sup>2</sup> = 1 人  \n",
    "- 60 m<sup>2</sup> = 2 人  \n",
    "- 90 m<sup>2</sup> = 3 人  \n",
    "- 120 m<sup>2</sup> = 4 人  "
   ]
  },
  {
   "cell_type": "code",
   "execution_count": 12,
   "metadata": {},
   "outputs": [],
   "source": [
    "spec_local_1 = {\n",
    "    'General': {\n",
    "        'AllFloorArea' : '30' # m2\n",
    "    },\n",
    "    'Ventilation': {  \n",
    "        'VentilationType': 'WallType3',          # 'DuctType1', 'DuctType2', 'DuctType3', 'WallType1', 'WallType2', 'WallType3'\n",
    "        'WallMountedTypeSpec' : {\n",
    "            'EnergySavingType' : 'SFP',    # 'None', 'SFP'\n",
    "            'SFP'              : '0.3'     # Decimal Value represented as string\n",
    "        },\n",
    "        'VentilationRate'          : '0.5',    # '0.5', '0.7', '0.0'\n",
    "        'EffectiveVentilationRate' : '1.0'     # Decimal Value represented as string\n",
    "    },\n",
    "    'HeatExchanger' : {\n",
    "        'Apply'                   : 'NotApply', # 'Apply', 'NotApply'\n",
    "    }\n",
    "}"
   ]
  },
  {
   "cell_type": "code",
   "execution_count": 13,
   "metadata": {},
   "outputs": [],
   "source": [
    "spec_local_2 = {\n",
    "    'General': {\n",
    "        'AllFloorArea' : '60' # m2\n",
    "    },\n",
    "    'Ventilation': {  \n",
    "        'VentilationType': 'WallType3',          # 'DuctType1', 'DuctType2', 'DuctType3', 'WallType1', 'WallType2', 'WallType3'\n",
    "        'WallMountedTypeSpec' : {\n",
    "            'EnergySavingType' : 'SFP',    # 'None', 'SFP'\n",
    "            'SFP'              : '0.3'     # Decimal Value represented as string\n",
    "        },\n",
    "        'VentilationRate'          : '0.5',    # '0.5', '0.7', '0.0'\n",
    "        'EffectiveVentilationRate' : '1.0'     # Decimal Value represented as string\n",
    "    },\n",
    "    'HeatExchanger' : {\n",
    "        'Apply'                   : 'NotApply', # 'Apply', 'NotApply'\n",
    "    }\n",
    "}"
   ]
  },
  {
   "cell_type": "code",
   "execution_count": 14,
   "metadata": {},
   "outputs": [],
   "source": [
    "spec_local_3 = {\n",
    "    'General': {\n",
    "        'AllFloorArea' : '90' # m2\n",
    "    },\n",
    "    'Ventilation': {  \n",
    "        'VentilationType': 'WallType3',          # 'DuctType1', 'DuctType2', 'DuctType3', 'WallType1', 'WallType2', 'WallType3'\n",
    "        'WallMountedTypeSpec' : {\n",
    "            'EnergySavingType' : 'SFP',    # 'None', 'SFP'\n",
    "            'SFP'              : '0.3'     # Decimal Value represented as string\n",
    "        },\n",
    "        'VentilationRate'          : '0.5',    # '0.5', '0.7', '0.0'\n",
    "        'EffectiveVentilationRate' : '1.0'     # Decimal Value represented as string\n",
    "    },\n",
    "    'HeatExchanger' : {\n",
    "        'Apply'                   : 'NotApply', # 'Apply', 'NotApply'\n",
    "    }\n",
    "}"
   ]
  },
  {
   "cell_type": "code",
   "execution_count": 15,
   "metadata": {},
   "outputs": [],
   "source": [
    "spec_local_4 = {\n",
    "    'General': {\n",
    "        'AllFloorArea' : '120' # m2\n",
    "    },\n",
    "    'Ventilation': {  \n",
    "        'VentilationType': 'WallType3',          # 'DuctType1', 'DuctType2', 'DuctType3', 'WallType1', 'WallType2', 'WallType3'\n",
    "        'WallMountedTypeSpec' : {\n",
    "            'EnergySavingType' : 'SFP',    # 'None', 'SFP'\n",
    "            'SFP'              : '0.3'     # Decimal Value represented as string\n",
    "        },\n",
    "        'VentilationRate'          : '0.5',    # '0.5', '0.7', '0.0'\n",
    "        'EffectiveVentilationRate' : '1.0'     # Decimal Value represented as string\n",
    "    },\n",
    "    'HeatExchanger' : {\n",
    "        'Apply'                   : 'NotApply', # 'Apply', 'NotApply'\n",
    "    }\n",
    "}"
   ]
  },
  {
   "cell_type": "markdown",
   "metadata": {},
   "source": [
    "### 2) 年間計算"
   ]
  },
  {
   "cell_type": "code",
   "execution_count": 16,
   "metadata": {},
   "outputs": [],
   "source": [
    "local_annualy = [sum([getHoerlyElectricPower(spec, day = d, hour = h)[2] for d in get_Annual_Days() for h in range(24)])\n",
    "                 for spec in [spec_local_1, spec_local_2, spec_local_3, spec_local_4]]"
   ]
  },
  {
   "cell_type": "markdown",
   "metadata": {},
   "source": [
    "### 3) 結果"
   ]
  },
  {
   "cell_type": "markdown",
   "metadata": {},
   "source": [
    "二次エネルギー(kWh)"
   ]
  },
  {
   "cell_type": "code",
   "execution_count": 17,
   "metadata": {},
   "outputs": [
    {
     "name": "stdout",
     "output_type": "stream",
     "text": [
      "値(二次)(kWh): [13.3, 26.5, 39.8, 53.0]\n"
     ]
    }
   ],
   "source": [
    "print('値(二次)(kWh): ' + str([my_round(v,1) for v in local_annualy]))"
   ]
  },
  {
   "cell_type": "markdown",
   "metadata": {},
   "source": [
    "一次エネルギー(MJ)"
   ]
  },
  {
   "cell_type": "code",
   "execution_count": 18,
   "metadata": {},
   "outputs": [
    {
     "name": "stdout",
     "output_type": "stream",
     "text": [
      "値(一次)(MJ): [130, 259, 389, 518]\n"
     ]
    }
   ],
   "source": [
    "print('値(一次)(MJ): ' + str([int(my_round(v*9.76)) for v in local_annualy]))"
   ]
  },
  {
   "cell_type": "markdown",
   "metadata": {},
   "source": [
    "## 4. 各月の消費量割合"
   ]
  },
  {
   "cell_type": "markdown",
   "metadata": {},
   "source": [
    "### 1) 条件"
   ]
  },
  {
   "cell_type": "markdown",
   "metadata": {},
   "source": [
    "各月の消費量割合は、全般換気を計算した時の条件で計算する。各月の消費割合は全般換気の消費量で算出する。  \n",
    "（たまたま換気の場合は全般換気の消費量は日にち・時刻によらず一定値のため、結果的には月毎の日数の割合となる。）"
   ]
  },
  {
   "cell_type": "markdown",
   "metadata": {},
   "source": [
    "### 2) 年間計算"
   ]
  },
  {
   "cell_type": "code",
   "execution_count": 19,
   "metadata": {},
   "outputs": [],
   "source": [
    "general = [getHoerlyElectricPower(spec_general, day = d, hour = h)[1] for d in get_Annual_Days() for h in range(24)]"
   ]
  },
  {
   "cell_type": "markdown",
   "metadata": {},
   "source": [
    "### 3) 各月の時間数 "
   ]
  },
  {
   "cell_type": "code",
   "execution_count": 20,
   "metadata": {},
   "outputs": [],
   "source": [
    "monthly_day = [31, 28, 31, 30, 31, 30, 31, 31, 30, 31, 30, 31]"
   ]
  },
  {
   "cell_type": "code",
   "execution_count": 21,
   "metadata": {},
   "outputs": [],
   "source": [
    "monthly_hour = [d*24 for d in monthly_day]"
   ]
  },
  {
   "cell_type": "code",
   "execution_count": 22,
   "metadata": {},
   "outputs": [
    {
     "data": {
      "text/plain": [
       "[744, 672, 744, 720, 744, 720, 744, 744, 720, 744, 720, 744]"
      ]
     },
     "execution_count": 22,
     "metadata": {},
     "output_type": "execute_result"
    }
   ],
   "source": [
    "monthly_hour"
   ]
  },
  {
   "cell_type": "markdown",
   "metadata": {},
   "source": [
    "各月の開始時間（通算）と終了時間（通算）を返す関数"
   ]
  },
  {
   "cell_type": "code",
   "execution_count": 23,
   "metadata": {},
   "outputs": [],
   "source": [
    "def get_start_and_end(monthly_hour):\n",
    "    s = 0\n",
    "    for month in monthly_hour:\n",
    "        yield (s, s+month)\n",
    "        s = s + month"
   ]
  },
  {
   "cell_type": "code",
   "execution_count": 24,
   "metadata": {},
   "outputs": [
    {
     "name": "stdout",
     "output_type": "stream",
     "text": [
      "(0, 744)\n",
      "(744, 1416)\n",
      "(1416, 2160)\n",
      "(2160, 2880)\n",
      "(2880, 3624)\n",
      "(3624, 4344)\n",
      "(4344, 5088)\n",
      "(5088, 5832)\n",
      "(5832, 6552)\n",
      "(6552, 7296)\n",
      "(7296, 8016)\n",
      "(8016, 8760)\n"
     ]
    }
   ],
   "source": [
    "for x in get_start_and_end(monthly_hour):\n",
    "    print(x)"
   ]
  },
  {
   "cell_type": "markdown",
   "metadata": {},
   "source": [
    "### 4) 各月の全般換気量の合計"
   ]
  },
  {
   "cell_type": "code",
   "execution_count": 25,
   "metadata": {},
   "outputs": [
    {
     "data": {
      "text/plain": [
       "[35.354879999999575,\n",
       " 31.93343999999967,\n",
       " 35.354879999999575,\n",
       " 34.21439999999961,\n",
       " 35.354879999999575,\n",
       " 34.21439999999961,\n",
       " 35.354879999999575,\n",
       " 35.354879999999575,\n",
       " 34.21439999999961,\n",
       " 35.354879999999575,\n",
       " 34.21439999999961,\n",
       " 35.354879999999575]"
      ]
     },
     "execution_count": 25,
     "metadata": {},
     "output_type": "execute_result"
    }
   ],
   "source": [
    "general_monthly = [sum(general[i] for i in range(x[0], x[1])) for x in get_start_and_end(monthly_hour)]\n",
    "general_monthly"
   ]
  },
  {
   "cell_type": "markdown",
   "metadata": {},
   "source": [
    "### 5) 各月の全般換気量の合計の割合（単位：パーセント）"
   ]
  },
  {
   "cell_type": "code",
   "execution_count": 26,
   "metadata": {},
   "outputs": [
    {
     "data": {
      "text/plain": [
       "[8.5, 7.7, 8.5, 8.2, 8.5, 8.2, 8.5, 8.5, 8.2, 8.5, 8.2, 8.5]"
      ]
     },
     "execution_count": 26,
     "metadata": {},
     "output_type": "execute_result"
    }
   ],
   "source": [
    "general_total = sum(general_monthly)\n",
    "general_monthly_ratio = [my_round(v/general_total*100, 1) for v in general_monthly]\n",
    "general_monthly_ratio"
   ]
  },
  {
   "cell_type": "markdown",
   "metadata": {},
   "source": [
    "### 6) 係数の調整"
   ]
  },
  {
   "cell_type": "code",
   "execution_count": 27,
   "metadata": {},
   "outputs": [
    {
     "data": {
      "text/plain": [
       "100.0"
      ]
     },
     "execution_count": 27,
     "metadata": {},
     "output_type": "execute_result"
    }
   ],
   "source": [
    "sum(general_monthly_ratio)"
   ]
  },
  {
   "cell_type": "markdown",
   "metadata": {},
   "source": [
    "合計がちょうど100%になった。（四捨五入の関係で必ず100%になるとは限らない。）  \n",
    "従って、特に値の調整は行わない。"
   ]
  },
  {
   "cell_type": "code",
   "execution_count": null,
   "metadata": {},
   "outputs": [],
   "source": []
  }
 ],
 "metadata": {
  "kernelspec": {
   "display_name": "Python 3",
   "language": "python",
   "name": "python3"
  },
  "language_info": {
   "codemirror_mode": {
    "name": "ipython",
    "version": 3
   },
   "file_extension": ".py",
   "mimetype": "text/x-python",
   "name": "python",
   "nbconvert_exporter": "python",
   "pygments_lexer": "ipython3",
   "version": "3.6.5"
  }
 },
 "nbformat": 4,
 "nbformat_minor": 2
}
